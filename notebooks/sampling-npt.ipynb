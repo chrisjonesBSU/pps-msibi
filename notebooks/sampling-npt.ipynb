{
 "cells": [
  {
   "cell_type": "code",
   "execution_count": 1,
   "id": "cd80c7df-dc30-4090-acd1-9a1908b5198e",
   "metadata": {},
   "outputs": [
    {
     "name": "stderr",
     "output_type": "stream",
     "text": [
      "Warning on use of the timeseries module: If the inherent timescales of the system are long compared to those being analyzed, this statistical inefficiency may be an underestimate.  The estimate presumes the use of many statistically independent samples.  Tests should be performed to assess whether this condition is satisfied.   Be cautious in the interpretation of the data.\n",
      "\n",
      "****** PyMBAR will use 64-bit JAX! *******\n",
      "* JAX is currently set to 32-bit bitsize *\n",
      "* which is its default.                  *\n",
      "*                                        *\n",
      "* PyMBAR requires 64-bit mode and WILL   *\n",
      "* enable JAX's 64-bit mode when called.  *\n",
      "*                                        *\n",
      "* This MAY cause problems with other     *\n",
      "* Uses of JAX in the same code.          *\n",
      "******************************************\n",
      "\n"
     ]
    }
   ],
   "source": [
    "import numpy as np\n",
    "from cmeutils.sampling import is_equilibrated, equil_sample\n",
    "from cmeutils.dynamics import msd_from_gsd\n",
    "import unyt as u\n",
    "from unyt import Unit\n",
    "import signac\n",
    "import gsd.hoomd\n",
    "import matplotlib.pyplot as plt\n",
    "import os"
   ]
  },
  {
   "cell_type": "code",
   "execution_count": 1,
   "id": "e32993fb-ec04-46dc-937b-c9d25fc4909a",
   "metadata": {},
   "outputs": [
    {
     "ename": "NameError",
     "evalue": "name 'signac' is not defined",
     "output_type": "error",
     "traceback": [
      "\u001b[0;31m---------------------------------------------------------------------------\u001b[0m",
      "\u001b[0;31mNameError\u001b[0m                                 Traceback (most recent call last)",
      "Cell \u001b[0;32mIn[1], line 1\u001b[0m\n\u001b[0;32m----> 1\u001b[0m project \u001b[38;5;241m=\u001b[39m \u001b[43msignac\u001b[49m\u001b[38;5;241m.\u001b[39mget_project(\u001b[38;5;124m\"\u001b[39m\u001b[38;5;124m../validation/\u001b[39m\u001b[38;5;124m\"\u001b[39m)\n\u001b[1;32m      2\u001b[0m job_filter \u001b[38;5;241m=\u001b[39m {\u001b[38;5;124m\"\u001b[39m\u001b[38;5;124mremove_hydrogens\u001b[39m\u001b[38;5;124m\"\u001b[39m: \u001b[38;5;28;01mTrue\u001b[39;00m, \u001b[38;5;124m\"\u001b[39m\u001b[38;5;124mremove_charges\u001b[39m\u001b[38;5;124m\"\u001b[39m: \u001b[38;5;28;01mFalse\u001b[39;00m, \u001b[38;5;124m\"\u001b[39m\u001b[38;5;124mpressure\u001b[39m\u001b[38;5;124m\"\u001b[39m: \u001b[38;5;241m0.0013933\u001b[39m}\n\u001b[1;32m      4\u001b[0m \u001b[38;5;28;01mdef\u001b[39;00m \u001b[38;5;21mkT_to_T\u001b[39m(kT, epsilon):\n",
      "\u001b[0;31mNameError\u001b[0m: name 'signac' is not defined"
     ]
    }
   ],
   "source": [
    "project = signac.get_project(\"../validation/\")\n",
    "job_filter = {\"remove_hydrogens\": True, \"remove_charges\": False, \"pressure\": 0.0013933}\n",
    "\n",
    "def kT_to_T(kT, epsilon):\n",
    "    return ((kT*epsilon)/8.31446262) - 273.15"
   ]
  },
  {
   "cell_type": "code",
   "execution_count": 3,
   "id": "ce8b2c4b-d85e-434a-8851-04cfdfd4894f",
   "metadata": {},
   "outputs": [
    {
     "name": "stdout",
     "output_type": "stream",
     "text": [
      "2.7 0.955 /home/erjank_project/PPS-MSIBI/pps-msibi/validation/workspace/393a1cc581d5324e470714d7c681dcac\n"
     ]
    }
   ],
   "source": [
    "for job in project.find_jobs({\"doc.npt_equilibrated\": False, \"sigma_scale\": 0.955}):\n",
    "    print(job.sp.kT, job.sp.sigma_scale, job.path)\n",
    "    #job.doc.avg_density = den_dict[job.sp.kT]\n",
    "    #job.doc.skip_npt_equil = True\n",
    "    "
   ]
  },
  {
   "cell_type": "code",
   "execution_count": 4,
   "id": "211df629-d283-474e-90a3-de2030fb46a7",
   "metadata": {},
   "outputs": [
    {
     "name": "stdout",
     "output_type": "stream",
     "text": [
      "38\n",
      "4\n"
     ]
    }
   ],
   "source": [
    "print(len([j for j in project if j.doc.npt_equilibrated]))\n",
    "print(len([j for j in project if not j.doc.npt_equilibrated]))"
   ]
  },
  {
   "cell_type": "code",
   "execution_count": 5,
   "id": "2f5883b9-6cae-4b7a-bb20-4b2636b85172",
   "metadata": {},
   "outputs": [],
   "source": [
    "def combine_log_files(job, ensemble=\"npt\", value=\"mdcomputeThermodynamicQuantitiesvolume\"):\n",
    "    arrays = []\n",
    "    if ensemble == \"npt\":\n",
    "        n_runs = job.doc.npt_runs\n",
    "    elif ensemble == \"nvt\":\n",
    "        n_runs = job.doc.nvt_runs\n",
    "\n",
    "    for i in range(n_runs):\n",
    "        fpath = job.fn(f\"log-{ensemble}{i}.txt\")\n",
    "        data = np.genfromtxt(fpath, names=True)\n",
    "        data_array = data[value]\n",
    "        arrays.append(data_array)\n",
    "    return np.concatenate(arrays)"
   ]
  },
  {
   "cell_type": "code",
   "execution_count": 6,
   "id": "7df654c4-cfef-412b-ab02-bb3e39ffdeae",
   "metadata": {},
   "outputs": [
    {
     "name": "stdout",
     "output_type": "stream",
     "text": [
      "393a1cc581d5324e470714d7c681dcac\n",
      "/home/erjank_project/PPS-MSIBI/pps-msibi/validation/workspace/393a1cc581d5324e470714d7c681dcac 2.7\n"
     ]
    },
    {
     "data": {
      "text/plain": [
       "<matplotlib.legend.Legend at 0x7f5452fab7d0>"
      ]
     },
     "execution_count": 6,
     "metadata": {},
     "output_type": "execute_result"
    },
    {
     "data": {
      "image/png": "[encoded data removed]",
      "text/plain": [
       "<Figure size 640x480 with 1 Axes>"
      ]
     },
     "metadata": {},
     "output_type": "display_data"
    }
   ],
   "source": [
    "job_filter = {\n",
    "    \"remove_hydrogens\": True,\n",
    "    \"remove_charges\": False,\n",
    "    \"kT\": 2.7,\n",
    "    \"doc.npt_equilibrated\": False,\n",
    "    \"sigma_scale\": 0.955\n",
    "}\n",
    "\n",
    "for job in project.find_jobs(filter=job_filter):\n",
    "    if job.doc.npt_runs == 0:\n",
    "        print(job.id)\n",
    "        continue\n",
    "    print(job.id)\n",
    "    fpath = job.fn(f\"log-npt{job.doc.npt_runs-1}.txt\")\n",
    "    data = np.genfromtxt(fpath, names=True)\n",
    "    vol = combine_log_files(job)\n",
    "    pe = combine_log_files(job=job, value=\"mdcomputeThermodynamicQuantitiespotential_energy\")\n",
    "    temp = combine_log_files(job=job, value=\"mdcomputeThermodynamicQuantitieskinetic_temperature\")\n",
    "    plt.plot(vol[-300000:], label=job.sp.kT)\n",
    "    print(job.path, job.sp.kT)\n",
    "\n",
    "plt.legend()"
   ]
  },
  {
   "cell_type": "markdown",
   "id": "ab3b1946-da83-40c8-b771-068c622f62d9",
   "metadata": {},
   "source": [
    "# Check for NPT Equilibration:"
   ]
  },
  {
   "cell_type": "code",
   "execution_count": 7,
   "id": "5d140bc8-189a-45e9-abe9-ed8f7cab25fa",
   "metadata": {},
   "outputs": [
    {
     "name": "stdout",
     "output_type": "stream",
     "text": [
      "393a1cc581d5324e470714d7c681dcac 2.7\n",
      "2.7 False True\n",
      "\n"
     ]
    }
   ],
   "source": [
    "for job in project.find_jobs(filter={\"doc.npt_equilibrated\": False, \"sigma_scale\": 0.955}):\n",
    "    #if job.doc.npt_runs == 0:\n",
    "    #    continue\n",
    "    print(job.id, job.sp.kT)\n",
    "    fpath = job.fn(f\"log-npt{job.doc.npt_runs-1}.txt\")\n",
    "    data = np.genfromtxt(fpath, names=True)\n",
    "    #vol = data[\"mdcomputeThermodynamicQuantitiesvolume\"]\n",
    "    #pe = data[\"mdcomputeThermodynamicQuantitiespotential_energy\"]\n",
    "    vol = combine_log_files(job=job)\n",
    "    pe = combine_log_files(job=job, value=\"mdcomputeThermodynamicQuantitiespotential_energy\")\n",
    "    if job.doc.npt_runs == 1:\n",
    "        sample_idx = len(vol)//2\n",
    "    else:\n",
    "        sample_idx = -30000\n",
    "    vol_eq = is_equilibrated(vol[sample_idx:], threshold_fraction=0.15, threshold_neff=100)[0]\n",
    "    pe_eq = is_equilibrated(pe[sample_idx:], threshold_fraction=0.15, threshold_neff=100)[0]\n",
    "    print(job.sp.kT, vol_eq, pe_eq)\n",
    "    if all([vol_eq, pe_eq]):\n",
    "        print(\"equilibrated\")\n",
    "        job.doc.npt_equilibrated = True\n",
    "    print()"
   ]
  },
  {
   "cell_type": "code",
   "execution_count": 20,
   "id": "26333bef-f92c-42e2-b1f7-bec0228fe10a",
   "metadata": {},
   "outputs": [
    {
     "name": "stdout",
     "output_type": "stream",
     "text": [
      "51e475756aeadda668351a024760dcda 2.8\n",
      "9a2350bfd349debae443b6dd5f1beb2f 2.9\n"
     ]
    }
   ],
   "source": [
    "for job in project.find_jobs(filter={\"doc.npt_equilibrated\": True, \"doc.volume_sampled\": False, \"sigma_scale\": 0.955}):\n",
    "    print(job.id, job.sp.kT)"
   ]
  },
  {
   "cell_type": "markdown",
   "id": "3e0bedf8-c996-4af1-880e-097ed9b22d7d",
   "metadata": {},
   "source": [
    "# Sample Volume:"
   ]
  },
  {
   "cell_type": "code",
   "execution_count": 5,
   "id": "7fce02b6-afc8-4b85-b714-529046649884",
   "metadata": {},
   "outputs": [
    {
     "name": "stdout",
     "output_type": "stream",
     "text": [
      "73e2a18dd6e440ba0066c934fcb829e0 3.0\n"
     ]
    },
    {
     "name": "stderr",
     "output_type": "stream",
     "text": [
      "/home/chrisjones4/miniconda3/envs/pps-msibi/lib/python3.11/site-packages/synced_collections/numpy_utils.py:46: NumpyConversionWarning: Any numpy types provided will be transparently converted to the closest base Python equivalents.\n",
      "  warnings.warn(NUMPY_CONVERSION_WARNING, NumpyConversionWarning)\n",
      "/home/chrisjones4/miniconda3/envs/pps-msibi/lib/python3.11/site-packages/synced_collections/numpy_utils.py:43: NumpyConversionWarning: Any numpy types provided will be transparently converted to the closest base Python equivalents.\n",
      "  warnings.warn(NUMPY_CONVERSION_WARNING, NumpyConversionWarning)\n"
     ]
    }
   ],
   "source": [
    "for job in project.find_jobs(filter={\"doc.npt_equilibrated\": True, \"doc.volume_sampled\": False, \"sigma_scale\": 0.955}):\n",
    "    print(job.id, job.sp.kT)\n",
    "    fpath = job.fn(f\"log-npt{job.doc.npt_runs-1}.txt\")\n",
    "    data = np.genfromtxt(fpath, names=True)\n",
    "    #vol = data[\"mdcomputeThermodynamicQuantitiesvolume\"]\n",
    "    #pe = data[\"mdcomputeThermodynamicQuantitiespotential_energy\"]\n",
    "    vol = combine_log_files(job=job)\n",
    "    #pe = combine_log_files(job=job, value=\"mdcomputeThermodynamicQuantitiespotential_energy\")\n",
    "    if job.doc.npt_runs == 1:\n",
    "        sample_idx = len(vol)//2\n",
    "    else:\n",
    "        sample_idx = -30000\n",
    "    try:\n",
    "        uncorr_sample, uncorr_indices, prod_start, Neff = equil_sample(\n",
    "                vol[sample_idx:], threshold_fraction=0.15, threshold_neff=100\n",
    "            )\n",
    "    except ValueError:\n",
    "        #job.doc.npt_equilibrated = False\n",
    "        print(\"error\")\n",
    "        continue\n",
    "    vol_nm = uncorr_sample * (job.doc.ref_length**3) * Unit(f\"{job.doc.ref_length_units}**3\")\n",
    "    vol_cm = vol_nm.to(\"cm**3\")\n",
    "    job.doc.avg_vol = np.mean(vol_cm.value)\n",
    "    job.doc.vol_std = np.std(vol_cm.value)\n",
    "    np.savetxt(job.fn(\"vol_cc.txt\"), vol_cm.value)\n",
    "    with gsd.hoomd.open(job.fn(\"restart.gsd\")) as traj:\n",
    "        snap = traj[0]\n",
    "        reduced_mass = sum(snap.particles.mass)\n",
    "        mass_amu = reduced_mass * job.doc.ref_mass * Unit(job.doc.ref_mass_units)\n",
    "        mass_g = mass_amu.to(\"g\")\n",
    "        job.doc.mass_g = mass_g.value\n",
    "    job.doc.avg_density = job.doc.mass_g / job.doc.avg_vol\n",
    "    job.doc.density_std = job.doc.mass_g / job.doc.vol_std\n",
    "    job.doc.volume_sampled = True"
   ]
  },
  {
   "cell_type": "markdown",
   "id": "b5adf513-a0ee-470f-885a-83792c6b2cd4",
   "metadata": {},
   "source": [
    "# Analysis: Plot Density vs Temperature"
   ]
  },
  {
   "cell_type": "code",
   "execution_count": 7,
   "id": "5a31e6a2-37fc-4a5d-87ae-0b746b650456",
   "metadata": {},
   "outputs": [
    {
     "name": "stdout",
     "output_type": "stream",
     "text": [
      "2.0 1.3686785297722928\n",
      "2.2 1.3557969861989738\n",
      "2.4 1.3392703348028023\n",
      "2.5 1.3231743070374549\n",
      "2.6 1.3158424105494935\n",
      "2.8 1.3663529132536296\n",
      "2.9 1.3473824504407481\n",
      "3.0 1.3655533350635436\n",
      "3.1 1.397248220141228\n",
      "3.2 1.2425106980982334\n",
      "3.4 1.1712495596403212\n",
      "3.6 1.1021776913184336\n",
      "3.8 1.040777507712581\n",
      "4.0 0.9754124522622935\n",
      "4.2 0.9035164883121194\n",
      "4.4 0.8283214502831906\n",
      "4.6 0.7411607091637776\n"
     ]
    },
    {
     "data": {
      "image/png": "[encoded data removed]",
      "text/plain": [
       "<Figure size 640x480 with 1 Axes>"
      ]
     },
     "metadata": {},
     "output_type": "display_data"
    }
   ],
   "source": [
    "job_filter = {\"remove_hydrogens\": True, \"remove_charges\": False, \"doc.volume_sampled\": True, \"sigma_scale\": 0.955}\n",
    "for kT, job in project.find_jobs(filter=job_filter).groupby(\"kT\"):\n",
    "    if kT < 2.0: continue\n",
    "    job = list(job)[0]\n",
    "    print(kT, job.doc.avg_density)\n",
    "    #print(kT, job.path)\n",
    "    T = kT_to_T(job.sp.kT, epsilon=1065)\n",
    "    plt.plot(T, job.doc.avg_density, \"ko\")\n",
    "    #plt.errorbar(x=kT, y=job.doc.avg_vol, yerr=job.doc.vol_std, marker=\"o\", c=\"k\")\n",
    "    plt.vlines(x=90, ymin=1.0, ymax=1.4, ls=\"--\", color=\"red\")"
   ]
  },
  {
   "cell_type": "code",
   "execution_count": null,
   "id": "22131ec4-4750-49d0-9204-7d3719d45843",
   "metadata": {},
   "outputs": [],
   "source": [
    "for job in project.find_jobs({\"doc.volume_sampled\": True}):\n",
    "    if not job.isfile(\"trajectory-nvt0.gsd\"):\n",
    "        print(job.sp.kT)"
   ]
  },
  {
   "cell_type": "code",
   "execution_count": null,
   "id": "8251e461-d12c-40ee-a0d3-3abd3fdc166f",
   "metadata": {},
   "outputs": [],
   "source": [
    "job.project.path"
   ]
  },
  {
   "cell_type": "code",
   "execution_count": null,
   "id": "0e62933f-34cb-4384-b8be-dd55a23c31a6",
   "metadata": {},
   "outputs": [],
   "source": []
  }
 ],
 "metadata": {
  "kernelspec": {
   "display_name": "Python 3 (ipykernel)",
   "language": "python",
   "name": "python3"
  },
  "language_info": {
   "codemirror_mode": {
    "name": "ipython",
    "version": 3
   },
   "file_extension": ".py",
   "mimetype": "text/x-python",
   "name": "python",
   "nbconvert_exporter": "python",
   "pygments_lexer": "ipython3",
   "version": "3.11.8"
  }
 },
 "nbformat": 4,
 "nbformat_minor": 5
}
