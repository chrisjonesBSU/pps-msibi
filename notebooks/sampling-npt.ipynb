{
 "cells": [
  {
   "cell_type": "code",
   "execution_count": 1,
   "id": "cd80c7df-dc30-4090-acd1-9a1908b5198e",
   "metadata": {},
   "outputs": [
    {
     "name": "stderr",
     "output_type": "stream",
     "text": [
      "Warning on use of the timeseries module: If the inherent timescales of the system are long compared to those being analyzed, this statistical inefficiency may be an underestimate.  The estimate presumes the use of many statistically independent samples.  Tests should be performed to assess whether this condition is satisfied.   Be cautious in the interpretation of the data.\n",
      "WARNING:pymbar.mbar_solvers:\n",
      "****** PyMBAR will use 64-bit JAX! *******\n",
      "* JAX is currently set to 32-bit bitsize *\n",
      "* which is its default.                  *\n",
      "*                                        *\n",
      "* PyMBAR requires 64-bit mode and WILL   *\n",
      "* enable JAX's 64-bit mode when called.  *\n",
      "*                                        *\n",
      "* This MAY cause problems with other     *\n",
      "* Uses of JAX in the same code.          *\n",
      "******************************************\n",
      "\n"
     ]
    }
   ],
   "source": [
    "import numpy as np\n",
    "from cmeutils.sampling import is_equilibrated, equil_sample\n",
    "from cmeutils.dynamics import msd_from_gsd\n",
    "import unyt as u\n",
    "from unyt import Unit\n",
    "import signac\n",
    "import gsd.hoomd\n",
    "import matplotlib.pyplot as plt\n",
    "import os"
   ]
  },
  {
   "cell_type": "code",
   "execution_count": 2,
   "id": "e32993fb-ec04-46dc-937b-c9d25fc4909a",
   "metadata": {},
   "outputs": [],
   "source": [
    "project = signac.get_project(\"../validation/\")\n",
    "job_filter = {\"remove_hydrogens\": True, \"remove_charges\": False, \"pressure\": 0.0013933}\n",
    "\n",
    "def kT_to_T(kT, epsilon):\n",
    "    return ((kT*epsilon)/8.31446262) - 273.15"
   ]
  },
  {
   "cell_type": "code",
   "execution_count": 3,
   "id": "ce8b2c4b-d85e-434a-8851-04cfdfd4894f",
   "metadata": {},
   "outputs": [
    {
     "name": "stdout",
     "output_type": "stream",
     "text": [
      "2.7 0.955 /home/erjank_project/chrisjones/1-PPS-MSIBI/PPS-MSIBI/pps-msibi/validation/workspace/393a1cc581d5324e470714d7c681dcac\n",
      "3.0 0.955 /home/erjank_project/chrisjones/1-PPS-MSIBI/PPS-MSIBI/pps-msibi/validation/workspace/73e2a18dd6e440ba0066c934fcb829e0\n",
      "3.1 0.955 /home/erjank_project/chrisjones/1-PPS-MSIBI/PPS-MSIBI/pps-msibi/validation/workspace/100888a4bbe8114d13b7c682ba77a678\n",
      "2.8 0.955 /home/erjank_project/chrisjones/1-PPS-MSIBI/PPS-MSIBI/pps-msibi/validation/workspace/51e475756aeadda668351a024760dcda\n",
      "2.9 0.955 /home/erjank_project/chrisjones/1-PPS-MSIBI/PPS-MSIBI/pps-msibi/validation/workspace/9a2350bfd349debae443b6dd5f1beb2f\n"
     ]
    }
   ],
   "source": [
    "for job in project.find_jobs({\"doc.npt_equilibrated\": False, \"sigma_scale\": 0.955}):\n",
    "    print(job.sp.kT, job.sp.sigma_scale, job.path)\n",
    "    #job.doc.avg_density = den_dict[job.sp.kT]\n",
    "    #job.doc.skip_npt_equil = True\n",
    "    "
   ]
  },
  {
   "cell_type": "code",
   "execution_count": 4,
   "id": "211df629-d283-474e-90a3-de2030fb46a7",
   "metadata": {},
   "outputs": [
    {
     "name": "stdout",
     "output_type": "stream",
     "text": [
      "34\n",
      "8\n"
     ]
    }
   ],
   "source": [
    "print(len([j for j in project if j.doc.npt_equilibrated]))\n",
    "print(len([j for j in project if not j.doc.npt_equilibrated]))"
   ]
  },
  {
   "cell_type": "code",
   "execution_count": 5,
   "id": "2f5883b9-6cae-4b7a-bb20-4b2636b85172",
   "metadata": {},
   "outputs": [],
   "source": [
    "def combine_log_files(job, ensemble=\"npt\", value=\"mdcomputeThermodynamicQuantitiesvolume\"):\n",
    "    arrays = []\n",
    "    if ensemble == \"npt\":\n",
    "        n_runs = job.doc.npt_runs\n",
    "    elif ensemble == \"nvt\":\n",
    "        n_runs = job.doc.nvt_runs\n",
    "\n",
    "    for i in range(n_runs):\n",
    "        fpath = job.fn(f\"log-{ensemble}{i}.txt\")\n",
    "        data = np.genfromtxt(fpath, names=True)\n",
    "        data_array = data[value]\n",
    "        arrays.append(data_array)\n",
    "    return np.concatenate(arrays)"
   ]
  },
  {
   "cell_type": "code",
   "execution_count": 8,
   "id": "7df654c4-cfef-412b-ab02-bb3e39ffdeae",
   "metadata": {},
   "outputs": [
    {
     "name": "stdout",
     "output_type": "stream",
     "text": [
      "/home/erjank_project/chrisjones/1-PPS-MSIBI/PPS-MSIBI/pps-msibi/validation/workspace/73e2a18dd6e440ba0066c934fcb829e0 3.0\n"
     ]
    },
    {
     "data": {
      "text/plain": [
       "<matplotlib.legend.Legend at 0x7f51a6a329a0>"
      ]
     },
     "execution_count": 8,
     "metadata": {},
     "output_type": "execute_result"
    },
    {
     "data": {
      "image/png": "[encoded data removed]",
      "text/plain": [
       "<Figure size 640x480 with 1 Axes>"
      ]
     },
     "metadata": {},
     "output_type": "display_data"
    }
   ],
   "source": [
    "job_filter = {\n",
    "    \"remove_hydrogens\": True,\n",
    "    \"remove_charges\": False,\n",
    "    \"kT\": 3.0,\n",
    "    \"doc.npt_equilibrated\": False,\n",
    "    \"sigma_scale\": 0.955\n",
    "}\n",
    "\n",
    "for job in project.find_jobs(filter=job_filter):\n",
    "    if job.doc.npt_runs == 0:\n",
    "        print(job.id)\n",
    "        continue\n",
    "    fpath = job.fn(f\"log-npt{job.doc.npt_runs-1}.txt\")\n",
    "    data = np.genfromtxt(fpath, names=True)\n",
    "    vol = combine_log_files(job)\n",
    "    pe = combine_log_files(job=job, value=\"mdcomputeThermodynamicQuantitiespotential_energy\")\n",
    "    temp = combine_log_files(job=job, value=\"mdcomputeThermodynamicQuantitieskinetic_temperature\")\n",
    "    plt.plot(vol[8000:], label=job.sp.kT)\n",
    "    print(job.path, job.sp.kT)\n",
    "\n",
    "plt.legend()"
   ]
  },
  {
   "cell_type": "markdown",
   "id": "ab3b1946-da83-40c8-b771-068c622f62d9",
   "metadata": {},
   "source": [
    "# Check for NPT Equilibration:"
   ]
  },
  {
   "cell_type": "code",
   "execution_count": 26,
   "id": "5d140bc8-189a-45e9-abe9-ed8f7cab25fa",
   "metadata": {},
   "outputs": [
    {
     "name": "stdout",
     "output_type": "stream",
     "text": [
      "3.0 False False\n",
      "\n",
      "3.0 False False\n",
      "\n"
     ]
    }
   ],
   "source": [
    "for job in project.find_jobs(filter={\"doc.npt_equilibrated\": False,\"kT\": 3.0}):\n",
    "    #if job.doc.npt_runs == 0:\n",
    "    #    continue\n",
    "    fpath = job.fn(f\"log-npt{job.doc.npt_runs-1}.txt\")\n",
    "    data = np.genfromtxt(fpath, names=True)\n",
    "    #vol = data[\"mdcomputeThermodynamicQuantitiesvolume\"]\n",
    "    #pe = data[\"mdcomputeThermodynamicQuantitiespotential_energy\"]\n",
    "    vol = combine_log_files(job=job)\n",
    "    pe = combine_log_files(job=job, value=\"mdcomputeThermodynamicQuantitiespotential_energy\")\n",
    "    if job.doc.npt_runs == 1:\n",
    "        sample_idx = len(vol)//2\n",
    "    else:\n",
    "        sample_idx = -30000\n",
    "    vol_eq = is_equilibrated(vol[sample_idx:], threshold_fraction=0.15, threshold_neff=200)[0]\n",
    "    pe_eq = is_equilibrated(pe[sample_idx:], threshold_fraction=0.15, threshold_neff=200)[0]\n",
    "    print(job.sp.kT, vol_eq, pe_eq)\n",
    "    if all([vol_eq, pe_eq]):\n",
    "        print(\"equilibrated\")\n",
    "        job.doc.npt_equilibrated = True\n",
    "    print()"
   ]
  },
  {
   "cell_type": "markdown",
   "id": "3e0bedf8-c996-4af1-880e-097ed9b22d7d",
   "metadata": {},
   "source": [
    "# Sample Volume:"
   ]
  },
  {
   "cell_type": "code",
   "execution_count": 23,
   "id": "7fce02b6-afc8-4b85-b714-529046649884",
   "metadata": {},
   "outputs": [
    {
     "name": "stdout",
     "output_type": "stream",
     "text": [
      "28aa0133175e9cf18fd68e541cb012ee 4.4\n"
     ]
    },
    {
     "name": "stderr",
     "output_type": "stream",
     "text": [
      "/home/chrisjones4/miniconda3/envs/jankflow/lib/python3.9/site-packages/synced_collections/numpy_utils.py:46: NumpyConversionWarning: Any numpy types provided will be transparently converted to the closest base Python equivalents.\n",
      "  warnings.warn(NUMPY_CONVERSION_WARNING, NumpyConversionWarning)\n",
      "/home/chrisjones4/miniconda3/envs/jankflow/lib/python3.9/site-packages/synced_collections/numpy_utils.py:43: NumpyConversionWarning: Any numpy types provided will be transparently converted to the closest base Python equivalents.\n",
      "  warnings.warn(NUMPY_CONVERSION_WARNING, NumpyConversionWarning)\n"
     ]
    },
    {
     "name": "stdout",
     "output_type": "stream",
     "text": [
      "212e36add95bb5744b05aa8ce8d29449 4.6\n",
      "96282e58fc96112640e1330198828903 4.0\n",
      "24e102558a3471c0accad805e64ff332 4.2\n"
     ]
    }
   ],
   "source": [
    "for job in project.find_jobs(filter={\"doc.npt_equilibrated\": True, \"doc.volume_sampled\": False}):\n",
    "    print(job.id, job.sp.kT)\n",
    "    fpath = job.fn(f\"log-npt{job.doc.npt_runs-1}.txt\")\n",
    "    data = np.genfromtxt(fpath, names=True)\n",
    "    #vol = data[\"mdcomputeThermodynamicQuantitiesvolume\"]\n",
    "    #pe = data[\"mdcomputeThermodynamicQuantitiespotential_energy\"]\n",
    "    vol = combine_log_files(job=job)\n",
    "    #pe = combine_log_files(job=job, value=\"mdcomputeThermodynamicQuantitiespotential_energy\")\n",
    "    if job.doc.npt_runs == 1:\n",
    "        sample_idx = len(vol)//2\n",
    "    else:\n",
    "        sample_idx = 3050\n",
    "    try:\n",
    "        uncorr_sample, uncorr_indices, prod_start, Neff = equil_sample(\n",
    "                vol[sample_idx:], threshold_fraction=0.15, threshold_neff=200\n",
    "            )\n",
    "    except ValueError:\n",
    "        #job.doc.npt_equilibrated = False\n",
    "        print(\"error\")\n",
    "        continue\n",
    "    vol_nm = uncorr_sample * (job.doc.ref_length**3) * Unit(f\"{job.doc.ref_length_units}**3\")\n",
    "    vol_cm = vol_nm.to(\"cm**3\")\n",
    "    job.doc.avg_vol = np.mean(vol_cm.value)\n",
    "    job.doc.vol_std = np.std(vol_cm.value)\n",
    "    np.savetxt(job.fn(\"vol_cc.txt\"), vol_cm.value)\n",
    "    with gsd.hoomd.open(job.fn(\"restart.gsd\")) as traj:\n",
    "        snap = traj[0]\n",
    "        reduced_mass = sum(snap.particles.mass)\n",
    "        mass_amu = reduced_mass * job.doc.ref_mass * Unit(job.doc.ref_mass_units)\n",
    "        mass_g = mass_amu.to(\"g\")\n",
    "        job.doc.mass_g = mass_g.value\n",
    "    job.doc.avg_density = job.doc.mass_g / job.doc.avg_vol\n",
    "    job.doc.density_std = job.doc.mass_g / job.doc.vol_std\n",
    "    job.doc.volume_sampled = True"
   ]
  },
  {
   "cell_type": "markdown",
   "id": "b5adf513-a0ee-470f-885a-83792c6b2cd4",
   "metadata": {},
   "source": [
    "# Analysis: Plot Density vs Temperature"
   ]
  },
  {
   "cell_type": "code",
   "execution_count": 4,
   "id": "5a31e6a2-37fc-4a5d-87ae-0b746b650456",
   "metadata": {},
   "outputs": [
    {
     "name": "stdout",
     "output_type": "stream",
     "text": [
      "2.0 1.3686785297722928\n",
      "2.2 1.3557969861989738\n",
      "2.4 1.3392703348028023\n",
      "2.5 1.3231743070374549\n",
      "2.6 1.3158424105494935\n",
      "3.2 1.2425106980982334\n",
      "3.4 1.1712495596403212\n",
      "3.6 1.1021776913184336\n",
      "3.8 1.040777507712581\n",
      "4.0 0.9754124522622935\n",
      "4.2 0.9035164883121194\n",
      "4.4 0.8283214502831906\n",
      "4.6 0.7411607091637776\n"
     ]
    },
    {
     "data": {
      "image/png": "[encoded data removed]",
      "text/plain": [
       "<Figure size 640x480 with 1 Axes>"
      ]
     },
     "metadata": {},
     "output_type": "display_data"
    }
   ],
   "source": [
    "job_filter = {\"remove_hydrogens\": True, \"remove_charges\": False, \"doc.volume_sampled\": True, \"sigma_scale\": 0.955}\n",
    "for kT, job in project.find_jobs(filter=job_filter).groupby(\"kT\"):\n",
    "    if kT < 2.0: continue\n",
    "    job = list(job)[0]\n",
    "    print(kT, job.doc.avg_density)\n",
    "    #print(kT, job.path)\n",
    "    T = kT_to_T(job.sp.kT, epsilon=1065)\n",
    "    plt.plot(T, job.doc.avg_density, \"ko\")\n",
    "    #plt.errorbar(x=kT, y=job.doc.avg_vol, yerr=job.doc.vol_std, marker=\"o\", c=\"k\")\n",
    "    plt.vlines(x=90, ymin=1.0, ymax=1.4, ls=\"--\", color=\"red\")"
   ]
  },
  {
   "cell_type": "code",
   "execution_count": null,
   "id": "22131ec4-4750-49d0-9204-7d3719d45843",
   "metadata": {},
   "outputs": [],
   "source": [
    "for job in project.find_jobs({\"doc.volume_sampled\": True}):\n",
    "    if not job.isfile(\"trajectory-nvt0.gsd\"):\n",
    "        print(job.sp.kT)"
   ]
  },
  {
   "cell_type": "code",
   "execution_count": 15,
   "id": "8251e461-d12c-40ee-a0d3-3abd3fdc166f",
   "metadata": {},
   "outputs": [
    {
     "data": {
      "text/plain": [
       "'/home/erjank_project/chrisjones/1-PPS-MSIBI/PPS-MSIBI/pps-msibi/validation'"
      ]
     },
     "execution_count": 15,
     "metadata": {},
     "output_type": "execute_result"
    }
   ],
   "source": [
    "job.project.path"
   ]
  },
  {
   "cell_type": "code",
   "execution_count": null,
   "id": "0e62933f-34cb-4384-b8be-dd55a23c31a6",
   "metadata": {},
   "outputs": [],
   "source": []
  }
 ],
 "metadata": {
  "kernelspec": {
   "display_name": "Python 3 (ipykernel)",
   "language": "python",
   "name": "python3"
  },
  "language_info": {
   "codemirror_mode": {
    "name": "ipython",
    "version": 3
   },
   "file_extension": ".py",
   "mimetype": "text/x-python",
   "name": "python",
   "nbconvert_exporter": "python",
   "pygments_lexer": "ipython3",
   "version": "3.9.18"
  }
 },
 "nbformat": 4,
 "nbformat_minor": 5
}
