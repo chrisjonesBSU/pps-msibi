{
 "cells": [
  {
   "cell_type": "code",
   "execution_count": 11,
   "id": "2749dd05",
   "metadata": {},
   "outputs": [],
   "source": [
    "import flowermd\n",
    "from flowermd.library import PPS"
   ]
  },
  {
   "cell_type": "code",
   "execution_count": 12,
   "id": "c4936471-c7e2-4f2b-9c84-3692f754b80b",
   "metadata": {},
   "outputs": [],
   "source": [
    "pps = PPS(num_mols=1, lengths=3)\n",
    "pps.molecules[0].save(\"AA3mer.gsd\")"
   ]
  },
  {
   "cell_type": "code",
   "execution_count": 13,
   "id": "b8007d88-10d0-40ef-9523-bd4463115a7f",
   "metadata": {},
   "outputs": [
    {
     "name": "stderr",
     "output_type": "stream",
     "text": [
      "/home/chrisjones4/miniconda3/envs/pps-msibi/lib/python3.11/site-packages/mbuild/conversion.py:1974: UserWarning: No element attribute associated with '<A pos=([-1.8167e-08  1.0210e-02  2.5014e-02]), 1 bonds, id: 139801633185424>'; and no matching elements found based upon the compound name. Setting atomic number to zero.\n",
      "  warn(warn_msg)\n"
     ]
    }
   ],
   "source": [
    "pps.coarse_grain(beads={\"A\": \"c1cc(S)ccc1\"})\n",
    "pps.molecules[0].save(\"CG3mer.gsd\")"
   ]
  },
  {
   "cell_type": "code",
   "execution_count": 14,
   "id": "1c9d4323-8d1b-4d48-91b5-75652d01720c",
   "metadata": {},
   "outputs": [
    {
     "data": {
      "application/3dmoljs_load.v0": "<div id=\"3dmolviewer_17089968073774366\"  style=\"position: relative; width: 640px; height: 480px;\">\n        <p id=\"3dmolwarning_17089968073774366\" style=\"background-color:#ffcccc;color:black\">You appear to be running in JupyterLab (or JavaScript failed to load for some other reason).  You need to install the 3dmol extension: <br>\n        <tt>jupyter labextension install jupyterlab_3dmol</tt></p>\n        </div>\n<script>\n\nvar loadScriptAsync = function(uri){\n  return new Promise((resolve, reject) => {\n    //this is to ignore the existence of requirejs amd\n    var savedexports, savedmodule;\n    if (typeof exports !== 'undefined') savedexports = exports;\n    else exports = {}\n    if (typeof module !== 'undefined') savedmodule = module;\n    else module = {}\n\n    var tag = document.createElement('script');\n    tag.src = uri;\n    tag.async = true;\n    tag.onload = () => {\n        exports = savedexports;\n        module = savedmodule;\n        resolve();\n    };\n  var firstScriptTag = document.getElementsByTagName('script')[0];\n  firstScriptTag.parentNode.insertBefore(tag, firstScriptTag);\n});\n};\n\nif(typeof $3Dmolpromise === 'undefined') {\n$3Dmolpromise = null;\n  $3Dmolpromise = loadScriptAsync('https://cdnjs.cloudflare.com/ajax/libs/3Dmol/2.0.4/3Dmol-min.js');\n}\n\nvar viewer_17089968073774366 = null;\nvar warn = document.getElementById(\"3dmolwarning_17089968073774366\");\nif(warn) {\n    warn.parentNode.removeChild(warn);\n}\n$3Dmolpromise.then(function() {\nviewer_17089968073774366 = $3Dmol.createViewer(document.getElementById(\"3dmolviewer_17089968073774366\"),{backgroundColor:\"white\"});\nviewer_17089968073774366.zoomTo();\n\tviewer_17089968073774366.addModel(\"@<TRIPOS>MOLECULE\\nRES\\n35 37 1 0 1\\nSMALL\\nNO_CHARGES\\n@<TRIPOS>CRYSIN\\n    9.3059     5.5343    24.4658    90.0000    90.0000    90.0000 1 1\\n@<TRIPOS>ATOM\\n       1 C           -0.0000     0.0421     1.7051 C             1 RES     \\n       2 C            1.2113     0.0692     1.0063 C             1 RES     \\n       3 C            1.2122     0.1236    -0.3915 C             1 RES     \\n       4 C           -0.0000     0.1505    -1.0924 C             1 RES     \\n       5 S            0.0000     0.2202    -2.8809 S             1 RES     \\n       6 C           -1.2122     0.1236    -0.3915 C             1 RES     \\n       7 C           -1.2113     0.0693     1.0063 C             1 RES     \\n       8 H            2.1484     0.0482     1.5475 H             1 RES     \\n       9 H            2.1529     0.1442    -0.9269 H             1 RES     \\n      10 H           -2.1529     0.1442    -0.9269 H             1 RES     \\n      11 H           -2.1484     0.0482     1.5475 H             1 RES     \\n      12 C            0.0000     0.2202    -4.6409 C             1 RES     \\n      13 C            1.2113     0.2473    -5.3396 C             1 RES     \\n      14 C            1.2122     0.3017    -6.7374 C             1 RES     \\n      15 C            0.0000     0.3286    -7.4383 C             1 RES     \\n      16 S            0.0000     0.3982    -9.2268 S             1 RES     \\n      17 C           -1.2122     0.3017    -6.7374 C             1 RES     \\n      18 C           -1.2113     0.2473    -5.3396 C             1 RES     \\n      19 H            2.1484     0.2263    -4.7985 H             1 RES     \\n      20 H            2.1529     0.3223    -7.2728 H             1 RES     \\n      21 H           -2.1529     0.3223    -7.2728 H             1 RES     \\n      22 H           -2.1484     0.2263    -4.7985 H             1 RES     \\n      23 C            0.0000     0.3982   -10.9868 C             1 RES     \\n      24 C            1.2113     0.4254   -11.6856 C             1 RES     \\n      25 C            1.2122     0.4798   -13.0834 C             1 RES     \\n      26 C            0.0000     0.5067   -13.7843 C             1 RES     \\n      27 S            0.0000     0.5763   -15.5728 S             1 RES     \\n      28 C           -1.2122     0.4798   -13.0834 C             1 RES     \\n      29 C           -1.2113     0.4254   -11.6856 C             1 RES     \\n      30 H            2.1484     0.4044   -11.1444 H             1 RES     \\n      31 H            2.1529     0.5004   -13.6187 H             1 RES     \\n      32 H           -2.1529     0.5004   -13.6187 H             1 RES     \\n      33 H           -2.1484     0.4044   -11.1444 H             1 RES     \\n      34 H           -0.0000     0.0421     2.7991 H             1 RES     \\n      35 H            0.0000     0.5763   -16.6668 H             1 RES     \\n@<TRIPOS>BOND\\n       1        1        2 1\\n       2        1        7 1\\n       3        1       34 1\\n       4        2        3 1\\n       5        2        8 1\\n       6        3        4 1\\n       7        3        9 1\\n       8        4        5 1\\n       9        4        6 1\\n      10        5       12 1\\n      11        6        7 1\\n      12        6       10 1\\n      13        7       11 1\\n      14       12       13 1\\n      15       12       18 1\\n      16       13       14 1\\n      17       13       19 1\\n      18       14       15 1\\n      19       14       20 1\\n      20       15       16 1\\n      21       15       17 1\\n      22       16       23 1\\n      23       17       18 1\\n      24       17       21 1\\n      25       18       22 1\\n      26       23       24 1\\n      27       23       29 1\\n      28       24       25 1\\n      29       24       30 1\\n      30       25       26 1\\n      31       25       31 1\\n      32       26       27 1\\n      33       26       28 1\\n      34       27       35 1\\n      35       28       29 1\\n      36       28       32 1\\n      37       29       33 1\\n@<TRIPOS>SUBSTRUCTURE\\n       1 RES             1 RESIDUE    0 **** ROOT      0\\n\",\"mol2\");\n\tviewer_17089968073774366.setStyle({\"stick\": {\"radius\": 0.2, \"opacity\": 0.6, \"color\": \"grey\"}, \"sphere\": {\"scale\": 0.3, \"opacity\": 0.6, \"colorscheme\": {}}});\n\tviewer_17089968073774366.addModel(\"@<TRIPOS>MOLECULE\\nRES\\n3 2 1 0 1\\nSMALL\\nNO_CHARGES\\n@<TRIPOS>CRYSIN\\n    6.0000     5.3710    18.2564    90.0000    90.0000    90.0000 1 1\\n@<TRIPOS>ATOM\\n       1 A           -0.0000     0.1021     0.2501 A             1 RES     \\n       2 A           -0.0000     0.2857    -6.3275 A             1 RES     \\n       3 A            0.0000     0.4731   -13.0062 A             1 RES     \\n@<TRIPOS>BOND\\n       1        1        2 1\\n       2        2        3 1\\n@<TRIPOS>SUBSTRUCTURE\\n       1 RES             1 RESIDUE    0 **** ROOT      0\\n\",\"mol2\");\n\tviewer_17089968073774366.setStyle({\"atom\": [\"A\", \"A\", \"A\"]},{\"stick\": {\"radius\": 0.13999999999999999, \"opacity\": 1, \"color\": \"grey\"}, \"sphere\": {\"scale\": 0.7, \"opacity\": 1, \"colorscheme\": {}}});\n\tviewer_17089968073774366.zoomTo();\nviewer_17089968073774366.render();\n});\n</script>",
      "text/html": [
       "<div id=\"3dmolviewer_17089968073774366\"  style=\"position: relative; width: 640px; height: 480px;\">\n",
       "        <p id=\"3dmolwarning_17089968073774366\" style=\"background-color:#ffcccc;color:black\">You appear to be running in JupyterLab (or JavaScript failed to load for some other reason).  You need to install the 3dmol extension: <br>\n",
       "        <tt>jupyter labextension install jupyterlab_3dmol</tt></p>\n",
       "        </div>\n",
       "<script>\n",
       "\n",
       "var loadScriptAsync = function(uri){\n",
       "  return new Promise((resolve, reject) => {\n",
       "    //this is to ignore the existence of requirejs amd\n",
       "    var savedexports, savedmodule;\n",
       "    if (typeof exports !== 'undefined') savedexports = exports;\n",
       "    else exports = {}\n",
       "    if (typeof module !== 'undefined') savedmodule = module;\n",
       "    else module = {}\n",
       "\n",
       "    var tag = document.createElement('script');\n",
       "    tag.src = uri;\n",
       "    tag.async = true;\n",
       "    tag.onload = () => {\n",
       "        exports = savedexports;\n",
       "        module = savedmodule;\n",
       "        resolve();\n",
       "    };\n",
       "  var firstScriptTag = document.getElementsByTagName('script')[0];\n",
       "  firstScriptTag.parentNode.insertBefore(tag, firstScriptTag);\n",
       "});\n",
       "};\n",
       "\n",
       "if(typeof $3Dmolpromise === 'undefined') {\n",
       "$3Dmolpromise = null;\n",
       "  $3Dmolpromise = loadScriptAsync('https://cdnjs.cloudflare.com/ajax/libs/3Dmol/2.0.4/3Dmol-min.js');\n",
       "}\n",
       "\n",
       "var viewer_17089968073774366 = null;\n",
       "var warn = document.getElementById(\"3dmolwarning_17089968073774366\");\n",
       "if(warn) {\n",
       "    warn.parentNode.removeChild(warn);\n",
       "}\n",
       "$3Dmolpromise.then(function() {\n",
       "viewer_17089968073774366 = $3Dmol.createViewer(document.getElementById(\"3dmolviewer_17089968073774366\"),{backgroundColor:\"white\"});\n",
       "viewer_17089968073774366.zoomTo();\n",
       "\tviewer_17089968073774366.addModel(\"@<TRIPOS>MOLECULE\\nRES\\n35 37 1 0 1\\nSMALL\\nNO_CHARGES\\n@<TRIPOS>CRYSIN\\n    9.3059     5.5343    24.4658    90.0000    90.0000    90.0000 1 1\\n@<TRIPOS>ATOM\\n       1 C           -0.0000     0.0421     1.7051 C             1 RES     \\n       2 C            1.2113     0.0692     1.0063 C             1 RES     \\n       3 C            1.2122     0.1236    -0.3915 C             1 RES     \\n       4 C           -0.0000     0.1505    -1.0924 C             1 RES     \\n       5 S            0.0000     0.2202    -2.8809 S             1 RES     \\n       6 C           -1.2122     0.1236    -0.3915 C             1 RES     \\n       7 C           -1.2113     0.0693     1.0063 C             1 RES     \\n       8 H            2.1484     0.0482     1.5475 H             1 RES     \\n       9 H            2.1529     0.1442    -0.9269 H             1 RES     \\n      10 H           -2.1529     0.1442    -0.9269 H             1 RES     \\n      11 H           -2.1484     0.0482     1.5475 H             1 RES     \\n      12 C            0.0000     0.2202    -4.6409 C             1 RES     \\n      13 C            1.2113     0.2473    -5.3396 C             1 RES     \\n      14 C            1.2122     0.3017    -6.7374 C             1 RES     \\n      15 C            0.0000     0.3286    -7.4383 C             1 RES     \\n      16 S            0.0000     0.3982    -9.2268 S             1 RES     \\n      17 C           -1.2122     0.3017    -6.7374 C             1 RES     \\n      18 C           -1.2113     0.2473    -5.3396 C             1 RES     \\n      19 H            2.1484     0.2263    -4.7985 H             1 RES     \\n      20 H            2.1529     0.3223    -7.2728 H             1 RES     \\n      21 H           -2.1529     0.3223    -7.2728 H             1 RES     \\n      22 H           -2.1484     0.2263    -4.7985 H             1 RES     \\n      23 C            0.0000     0.3982   -10.9868 C             1 RES     \\n      24 C            1.2113     0.4254   -11.6856 C             1 RES     \\n      25 C            1.2122     0.4798   -13.0834 C             1 RES     \\n      26 C            0.0000     0.5067   -13.7843 C             1 RES     \\n      27 S            0.0000     0.5763   -15.5728 S             1 RES     \\n      28 C           -1.2122     0.4798   -13.0834 C             1 RES     \\n      29 C           -1.2113     0.4254   -11.6856 C             1 RES     \\n      30 H            2.1484     0.4044   -11.1444 H             1 RES     \\n      31 H            2.1529     0.5004   -13.6187 H             1 RES     \\n      32 H           -2.1529     0.5004   -13.6187 H             1 RES     \\n      33 H           -2.1484     0.4044   -11.1444 H             1 RES     \\n      34 H           -0.0000     0.0421     2.7991 H             1 RES     \\n      35 H            0.0000     0.5763   -16.6668 H             1 RES     \\n@<TRIPOS>BOND\\n       1        1        2 1\\n       2        1        7 1\\n       3        1       34 1\\n       4        2        3 1\\n       5        2        8 1\\n       6        3        4 1\\n       7        3        9 1\\n       8        4        5 1\\n       9        4        6 1\\n      10        5       12 1\\n      11        6        7 1\\n      12        6       10 1\\n      13        7       11 1\\n      14       12       13 1\\n      15       12       18 1\\n      16       13       14 1\\n      17       13       19 1\\n      18       14       15 1\\n      19       14       20 1\\n      20       15       16 1\\n      21       15       17 1\\n      22       16       23 1\\n      23       17       18 1\\n      24       17       21 1\\n      25       18       22 1\\n      26       23       24 1\\n      27       23       29 1\\n      28       24       25 1\\n      29       24       30 1\\n      30       25       26 1\\n      31       25       31 1\\n      32       26       27 1\\n      33       26       28 1\\n      34       27       35 1\\n      35       28       29 1\\n      36       28       32 1\\n      37       29       33 1\\n@<TRIPOS>SUBSTRUCTURE\\n       1 RES             1 RESIDUE    0 **** ROOT      0\\n\",\"mol2\");\n",
       "\tviewer_17089968073774366.setStyle({\"stick\": {\"radius\": 0.2, \"opacity\": 0.6, \"color\": \"grey\"}, \"sphere\": {\"scale\": 0.3, \"opacity\": 0.6, \"colorscheme\": {}}});\n",
       "\tviewer_17089968073774366.addModel(\"@<TRIPOS>MOLECULE\\nRES\\n3 2 1 0 1\\nSMALL\\nNO_CHARGES\\n@<TRIPOS>CRYSIN\\n    6.0000     5.3710    18.2564    90.0000    90.0000    90.0000 1 1\\n@<TRIPOS>ATOM\\n       1 A           -0.0000     0.1021     0.2501 A             1 RES     \\n       2 A           -0.0000     0.2857    -6.3275 A             1 RES     \\n       3 A            0.0000     0.4731   -13.0062 A             1 RES     \\n@<TRIPOS>BOND\\n       1        1        2 1\\n       2        2        3 1\\n@<TRIPOS>SUBSTRUCTURE\\n       1 RES             1 RESIDUE    0 **** ROOT      0\\n\",\"mol2\");\n",
       "\tviewer_17089968073774366.setStyle({\"atom\": [\"A\", \"A\", \"A\"]},{\"stick\": {\"radius\": 0.13999999999999999, \"opacity\": 1, \"color\": \"grey\"}, \"sphere\": {\"scale\": 0.7, \"opacity\": 1, \"colorscheme\": {}}});\n",
       "\tviewer_17089968073774366.zoomTo();\n",
       "viewer_17089968073774366.render();\n",
       "});\n",
       "</script>"
      ]
     },
     "metadata": {},
     "output_type": "display_data"
    },
    {
     "data": {
      "text/plain": [
       "<py3Dmol.view at 0x7f261a9d0e90>"
      ]
     },
     "execution_count": 14,
     "metadata": {},
     "output_type": "execute_result"
    }
   ],
   "source": [
    "pps.molecules[0].visualize(show_atomistic=True)"
   ]
  },
  {
   "cell_type": "code",
   "execution_count": 15,
   "id": "fdc083ca-536a-41f2-822e-24c27dcad392",
   "metadata": {},
   "outputs": [
    {
     "name": "stdout",
     "output_type": "stream",
     "text": [
      "/home/erjank_project/PPS-MSIBI/pps-msibi/notebooks\n"
     ]
    }
   ],
   "source": [
    "!pwd"
   ]
  },
  {
   "cell_type": "code",
   "execution_count": null,
   "id": "3ea5a400-aeba-4d8a-a241-fe328f3dcf0e",
   "metadata": {},
   "outputs": [],
   "source": []
  }
 ],
 "metadata": {
  "kernelspec": {
   "display_name": "Python 3 (ipykernel)",
   "language": "python",
   "name": "python3"
  },
  "language_info": {
   "codemirror_mode": {
    "name": "ipython",
    "version": 3
   },
   "file_extension": ".py",
   "mimetype": "text/x-python",
   "name": "python",
   "nbconvert_exporter": "python",
   "pygments_lexer": "ipython3",
   "version": "3.11.8"
  }
 },
 "nbformat": 4,
 "nbformat_minor": 5
}
