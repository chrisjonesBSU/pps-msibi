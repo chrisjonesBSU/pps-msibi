{
 "cells": [
  {
   "cell_type": "code",
   "execution_count": 1,
   "id": "0367a740-a0e7-4b5d-ba8f-22553ec18e39",
   "metadata": {},
   "outputs": [
    {
     "name": "stderr",
     "output_type": "stream",
     "text": [
      "Warning on use of the timeseries module: If the inherent timescales of the system are long compared to those being analyzed, this statistical inefficiency may be an underestimate.  The estimate presumes the use of many statistically independent samples.  Tests should be performed to assess whether this condition is satisfied.   Be cautious in the interpretation of the data.\n",
      "\n",
      "****** PyMBAR will use 64-bit JAX! *******\n",
      "* JAX is currently set to 32-bit bitsize *\n",
      "* which is its default.                  *\n",
      "*                                        *\n",
      "* PyMBAR requires 64-bit mode and WILL   *\n",
      "* enable JAX's 64-bit mode when called.  *\n",
      "*                                        *\n",
      "* This MAY cause problems with other     *\n",
      "* Uses of JAX in the same code.          *\n",
      "******************************************\n",
      "\n",
      "/home/chrisjones4/miniconda3/envs/pps-msibi/lib/python3.11/site-packages/mdtraj/formats/__init__.py:6: DeprecationWarning: 'xdrlib' is deprecated and slated for removal in Python 3.13\n",
      "  from .xtc import XTCTrajectoryFile\n",
      "/home/chrisjones4/miniconda3/envs/pps-msibi/lib/python3.11/site-packages/mdtraj/geometry/order.py:25: DeprecationWarning: pkg_resources is deprecated as an API. See https://setuptools.pypa.io/en/latest/pkg_resources.html\n",
      "  from pkg_resources import parse_version\n",
      "/home/chrisjones4/miniconda3/envs/pps-msibi/lib/python3.11/site-packages/pkg_resources/__init__.py:2846: DeprecationWarning: Deprecated call to `pkg_resources.declare_namespace('google')`.\n",
      "Implementing implicit namespace packages (as specified in PEP 420) is preferred to `pkg_resources.declare_namespace`. See https://setuptools.pypa.io/en/latest/references/keywords.html#keyword-namespace-packages\n",
      "  declare_namespace(pkg)\n",
      "/home/chrisjones4/miniconda3/envs/pps-msibi/lib/python3.11/site-packages/lark/utils.py:163: DeprecationWarning: module 'sre_parse' is deprecated\n",
      "  import sre_parse\n",
      "/home/chrisjones4/miniconda3/envs/pps-msibi/lib/python3.11/site-packages/lark/utils.py:164: DeprecationWarning: module 'sre_constants' is deprecated\n",
      "  import sre_constants\n",
      "/home/chrisjones4/miniconda3/envs/pps-msibi/lib/python3.11/site-packages/mbuild/recipes/__init__.py:13: DeprecationWarning: SelectableGroups dict interface is deprecated. Use select.\n",
      "  entry_points = metadata.entry_points()[\"mbuild.plugins\"]\n"
     ]
    }
   ],
   "source": [
    "import numpy as np\n",
    "from cmeutils.sampling import is_equilibrated, equil_sample\n",
    "#from cmeutils.structure import (\n",
    "#    gsd_rdf,\n",
    "#    structure_factor,\n",
    "#    diffraction_pattern,\n",
    "#    get_quaternions,\n",
    "#    #nematic_order_parameter\n",
    "#)\n",
    "#from cmeutils.polymers import get_bond_vectors\n",
    "\n",
    "import unyt as u\n",
    "from unyt import Unit\n",
    "import signac\n",
    "import gsd.hoomd\n",
    "import matplotlib.pyplot as plt\n",
    "import os\n",
    "import grits\n",
    "import mbuild as mb\n",
    "import ele\n",
    "import matplotlib\n",
    "\n",
    "conv_dict = {\n",
    "    \"ca\": ele.element_from_symbol(\"C\"),\n",
    "    \"s\": ele.element_from_symbol(\"S\"),\n",
    "    \"sh\": ele.element_from_symbol(\"S\"),\n",
    "}"
   ]
  },
  {
   "cell_type": "code",
   "execution_count": 2,
   "id": "6243ed30-fd1e-4ac2-bf42-ca8cd86fc311",
   "metadata": {},
   "outputs": [],
   "source": [
    "# Matplotlib RC Params:    \n",
    "color_dict = {1.0: \"#0F0E0F\", 0.8: \"#666666\", 0.7: \"#964d4d\", 0.6: \"#d03f3f\"}\n",
    "symbol_dict = {1.0: \"o\", 0.8: \"s\", 0.7: \"^\", 0.6: \"d\"}\n",
    "plt.rcParams[\"figure.figsize\"] = (3, 3)\n",
    "plt.rcParams[\"axes.labelsize\"] = 10\n",
    "plt.rcParams[\"legend.fontsize\"] = 7\n",
    "plt.rcParams['lines.markersize'] = 1\n",
    "plt.rcParams[\"lines.linestyle\"] = \"-\"\n",
    "plt.rcParams[\"lines.linewidth\"] = 1\n",
    "plt.rcParams[\"figure.dpi\"] = 1200\n",
    "plt.rcParams[\"legend.markerscale\"] = 3\n",
    "\n",
    "colors = [\n",
    "    \"#FF5733\",  # Vermilion\n",
    "    \"#FFC300\",  # Saffron\n",
    "    \"#4B0082\",  # Indigo\n",
    "    \"#00A86B\",  # Jade\n",
    "    \"#007FFF\",  # Azure\n",
    "    \"#D2691E\",  # Chocolate\n",
    "    \"#FF4500\",  # Orange Red\n",
    "    \"#6A0DAD\",  # Purple\n",
    "    \"#2E8B57\",  # Sea Green\n",
    "    \"#FF6EC7\",  # Blush Pink\n",
    "    \"#800080\",  # Purple\n",
    "    \"#4682B4\",  # Steel Blue\n",
    "    \"#008B8B\",  # Dark Cyan\n",
    "    \"#E9967A\",  # Dark Salmon\n",
    "    \"#FFD700\",  # Gold\n",
    "    \"#800000\",  # Maroon \n",
    "]\n",
    "\n",
    "def kT_to_T(kT, epsilon):\n",
    "    \"\"\"kT converted to C\"\"\"\n",
    "    return ((kT*epsilon)/8.31446262) - 273.15"
   ]
  },
  {
   "cell_type": "code",
   "execution_count": 3,
   "id": "f30c5efb-d05a-4c0b-86b0-73bf707c8c5d",
   "metadata": {},
   "outputs": [],
   "source": [
    "project = signac.get_project(\"../validation\")"
   ]
  },
  {
   "cell_type": "code",
   "execution_count": 4,
   "id": "e55f3688-3fc8-423d-a495-23d54eb9bc16",
   "metadata": {},
   "outputs": [],
   "source": [
    "def append_first_frame(job):\n",
    "    fpath = job.fn(f\"trajectory-nvt{job.doc.nvt_runs-1}.gsd\")\n",
    "\n",
    "    with gsd.hoomd.open(job.fn(\"combined-nvt.gsd\"), \"w\") as new_traj:\n",
    "        with gsd.hoomd.open(job.fn(\"trajectory-npt0.gsd\"), \"r\") as init_traj:\n",
    "            new_traj.append(init_traj[0])\n",
    "        with gsd.hoomd.open(fpath) as nvt_traj:\n",
    "            for frame in nvt_traj:\n",
    "                new_traj.append(frame)\n",
    "\n",
    "def append_first_frame_npt(job):\n",
    "    #if job.doc.npt_runs < 2:\n",
    "    run = int(job.doc.npt_runs - 1)\n",
    "    #else:\n",
    "    #    run = int(job.doc.npt_runs - 2)\n",
    "    print(run)\n",
    "    fpath = job.fn(f\"trajectory-npt{run}.gsd\")\n",
    "    print(fpath)\n",
    "    with gsd.hoomd.open(job.fn(\"combined-npt.gsd\"), \"w\") as new_traj:\n",
    "        with gsd.hoomd.open(job.fn(\"trajectory-npt0.gsd\"), \"r\") as init_traj:\n",
    "            new_traj.append(init_traj[0])\n",
    "        with gsd.hoomd.open(fpath) as nvt_traj:\n",
    "            for frame in nvt_traj:\n",
    "                new_traj.append(frame)"
   ]
  },
  {
   "cell_type": "markdown",
   "id": "d8d06ba4-705b-414f-8435-ad57a983c60d",
   "metadata": {},
   "source": [
    "# Corase-grain the trajectories:"
   ]
  },
  {
   "cell_type": "code",
   "execution_count": 5,
   "id": "dc5ed6d3-cdce-4ab0-969a-00827f53e37f",
   "metadata": {},
   "outputs": [],
   "source": [
    "def coarse_grain_last_npt(job):\n",
    "    run = job.doc.npt_runs - 1\n",
    "    fpath = job.fn(f\"trajectory-npt{run}.gsd\")\n",
    "    with gsd.hoomd.open(job.fn(\"temp-npt.gsd\"), \"w\") as temp_traj: # Delete this traj after CGing\n",
    "        with gsd.hoomd.open(fpath, \"r\") as last_traj:\n",
    "            with gsd.hoomd.open(job.fn(\"trajectory-npt0.gsd\"), \"r\") as init_traj:\n",
    "                temp_traj.append(init_traj[0])\n",
    "                for frame in last_traj:\n",
    "                    temp_traj.append(frame)\n",
    "\n",
    "    bead_mapping = {\"A\": \"c1ccc(S)cc1\"}\n",
    "    \n",
    "    cg_system = grits.coarsegrain.CG_System(\n",
    "        gsdfile=job.fn(\"temp-npt.gsd\"),\n",
    "        beads=bead_mapping,\n",
    "        add_hydrogens=job.sp.remove_hydrogens,\n",
    "        length_scale=job.doc.ref_length,\n",
    "        mass_scale=job.doc.ref_mass,\n",
    "        conversion_dict=conv_dict\n",
    "    )\n",
    "    \n",
    "    cg_system.save(job.fn(\"last-npt-cg.gsd\"), add_images=False, stride=50)\n",
    "    os.remove(job.fn(\"temp-npt.gsd\"))"
   ]
  },
  {
   "cell_type": "code",
   "execution_count": 13,
   "id": "5360d2d2-7efc-4049-a2df-94a288700090",
   "metadata": {},
   "outputs": [
    {
     "name": "stdout",
     "output_type": "stream",
     "text": [
      "3.0 0.955 /home/erjank_project/PPS-MSIBI/pps-msibi/validation/workspace/73e2a18dd6e440ba0066c934fcb829e0\n",
      "3.1 0.955 /home/erjank_project/PPS-MSIBI/pps-msibi/validation/workspace/100888a4bbe8114d13b7c682ba77a678\n",
      "2.7 0.955 /home/erjank_project/PPS-MSIBI/pps-msibi/validation/workspace/393a1cc581d5324e470714d7c681dcac\n"
     ]
    }
   ],
   "source": [
    "for job in project.find_jobs({\"doc.npt_equilibrated\": False, \"sigma_scale\": 0.955}):\n",
    "    print(job.sp.kT, job.sp.sigma_scale, job.path)\n",
    "    #job.doc.avg_density = den_dict[job.sp.kT]\n",
    "    #job.doc.skip_npt_equil = True"
   ]
  },
  {
   "cell_type": "code",
   "execution_count": 14,
   "id": "5ba951b3-04c6-43c7-912f-c164e3125c8a",
   "metadata": {},
   "outputs": [
    {
     "name": "stdout",
     "output_type": "stream",
     "text": [
      "3.0 0.955 /home/erjank_project/PPS-MSIBI/pps-msibi/validation/workspace/73e2a18dd6e440ba0066c934fcb829e0\n",
      "Added 102 hydrogens.\n"
     ]
    },
    {
     "name": "stderr",
     "output_type": "stream",
     "text": [
      "/home/chrisjones4/miniconda3/envs/pps-msibi/lib/python3.11/site-packages/gsd/hoomd.py:835: DeprecationWarning: The truth value of an empty array is ambiguous. Returning False, but in future this will result in an error. Use `array.size > 0` to check that an array is not empty.\n",
      "  if matches_default_value and not self._chunk_exists_frame_0.get(\n"
     ]
    },
    {
     "name": "stdout",
     "output_type": "stream",
     "text": [
      "3.1 0.955 /home/erjank_project/PPS-MSIBI/pps-msibi/validation/workspace/100888a4bbe8114d13b7c682ba77a678\n",
      "Added 102 hydrogens.\n"
     ]
    },
    {
     "name": "stderr",
     "output_type": "stream",
     "text": [
      "/home/chrisjones4/miniconda3/envs/pps-msibi/lib/python3.11/site-packages/gsd/hoomd.py:835: DeprecationWarning: The truth value of an empty array is ambiguous. Returning False, but in future this will result in an error. Use `array.size > 0` to check that an array is not empty.\n",
      "  if matches_default_value and not self._chunk_exists_frame_0.get(\n"
     ]
    },
    {
     "name": "stdout",
     "output_type": "stream",
     "text": [
      "2.7 0.955 /home/erjank_project/PPS-MSIBI/pps-msibi/validation/workspace/393a1cc581d5324e470714d7c681dcac\n",
      "Added 102 hydrogens.\n"
     ]
    },
    {
     "name": "stderr",
     "output_type": "stream",
     "text": [
      "/home/chrisjones4/miniconda3/envs/pps-msibi/lib/python3.11/site-packages/gsd/hoomd.py:835: DeprecationWarning: The truth value of an empty array is ambiguous. Returning False, but in future this will result in an error. Use `array.size > 0` to check that an array is not empty.\n",
      "  if matches_default_value and not self._chunk_exists_frame_0.get(\n"
     ]
    }
   ],
   "source": [
    "for job in project.find_jobs({\"doc.npt_equilibrated\": False, \"sigma_scale\": 0.955}):\n",
    "    print(job.sp.kT, job.sp.sigma_scale, job.path)\n",
    "    coarse_grain_last_npt(job)"
   ]
  },
  {
   "cell_type": "code",
   "execution_count": 6,
   "id": "3735b7da-5855-429f-ba88-1528b76ac779",
   "metadata": {},
   "outputs": [],
   "source": [
    "test_job = project.open_job(id=\"e6e236135ac867add24f9d4d31ee2741\")"
   ]
  },
  {
   "cell_type": "code",
   "execution_count": 10,
   "id": "be2215c7-9973-4b2a-bd91-90a5e3a26074",
   "metadata": {},
   "outputs": [
    {
     "name": "stdout",
     "output_type": "stream",
     "text": [
      "Added 102 hydrogens.\n"
     ]
    },
    {
     "name": "stderr",
     "output_type": "stream",
     "text": [
      "/home/chrisjones4/miniconda3/envs/pps-msibi/lib/python3.11/site-packages/gsd/hoomd.py:835: DeprecationWarning: The truth value of an empty array is ambiguous. Returning False, but in future this will result in an error. Use `array.size > 0` to check that an array is not empty.\n",
      "  if matches_default_value and not self._chunk_exists_frame_0.get(\n"
     ]
    }
   ],
   "source": [
    "bead_mapping = {\"A\": \"c1ccc(S)cc1\"}\n",
    "\n",
    "cg_system = grits.coarsegrain.CG_System(\n",
    "    gsdfile=test_job.fn(\"trajectory-npt0.gsd\"),\n",
    "    beads=bead_mapping,\n",
    "    add_hydrogens=test_job.sp.remove_hydrogens,\n",
    "    #length_scale=test_job.doc.ref_length,\n",
    "    #mass_scale=job.doc.ref_mass,\n",
    "    conversion_dict=conv_dict\n",
    ")\n",
    "cg_system.save(test_job.fn(\"test-cg.gsd\"), add_images=False, stride=10)"
   ]
  },
  {
   "cell_type": "code",
   "execution_count": 9,
   "id": "ad6b44a7-db83-4853-b334-5546975aab08",
   "metadata": {},
   "outputs": [
    {
     "data": {
      "text/plain": [
       "['/home/erjank_project/PPS-MSIBI/chris-scratch-space/grits/grits']"
      ]
     },
     "execution_count": 9,
     "metadata": {},
     "output_type": "execute_result"
    }
   ],
   "source": [
    "grits.__path__"
   ]
  },
  {
   "cell_type": "code",
   "execution_count": null,
   "id": "f263d546-37cd-478d-b82c-0b4df37dd0d1",
   "metadata": {},
   "outputs": [],
   "source": []
  },
  {
   "cell_type": "code",
   "execution_count": null,
   "id": "2bf335d7-2b2b-410b-a020-1ca6e35e2c52",
   "metadata": {},
   "outputs": [],
   "source": []
  },
  {
   "cell_type": "code",
   "execution_count": null,
   "id": "3612bd0e-347a-4374-8549-ae21150b9a6d",
   "metadata": {},
   "outputs": [],
   "source": [
    "for kT, jobs in project.find_jobs({\"doc.nvt_equilibrated\": True}).groupby(\"kT\"):\n",
    "    for job in jobs:\n",
    "        if job.isfile(\"cg-nvt.gsd\"):\n",
    "            continue\n",
    "        print(job.id)\n",
    "        append_first_frame(job)\n",
    "        fpath = job.fn(\"combined-nvt.gsd\")\n",
    "        bead_mapping = {\"A\": \"c1ccc(S)cc1\"}\n",
    "        cg_system = grits.coarsegrain.CG_System(\n",
    "            gsdfile=fpath,\n",
    "            beads=bead_mapping,\n",
    "            add_hydrogens=job.sp.remove_hydrogens,\n",
    "            conversion_dict=conv_dict\n",
    "        )\n",
    "        cg_system.save(job.fn(\"cg-nvt.gsd\"))\n",
    "        print()"
   ]
  },
  {
   "cell_type": "code",
   "execution_count": null,
   "id": "c57640c1-b321-4074-83f4-81d3bafb8039",
   "metadata": {},
   "outputs": [],
   "source": []
  },
  {
   "cell_type": "code",
   "execution_count": null,
   "id": "1663894f-0d1c-4619-a2a9-c4cccf5ea028",
   "metadata": {},
   "outputs": [],
   "source": [
    "for kT, jobs in project.find_jobs().groupby(\"kT\"):\n",
    "    for job in jobs:\n",
    "        if job.isfile(\"cg-npt.gsd\"):\n",
    "            continue\n",
    "        print(job.id)\n",
    "        append_first_frame(job)\n",
    "        fpath = job.fn(\"combined-npt.gsd\")\n",
    "        bead_mapping = {\"A\": \"c1ccc(S)cc1\"}\n",
    "        cg_system = grits.coarsegrain.CG_System(\n",
    "            gsdfile=fpath,\n",
    "            beads=bead_mapping,\n",
    "            add_hydrogens=job.sp.remove_hydrogens,\n",
    "            conversion_dict=conv_dict\n",
    "        )\n",
    "        cg_system.save(job.fn(\"cg-npt.gsd\"))\n",
    "        print()"
   ]
  },
  {
   "cell_type": "markdown",
   "id": "b5f86cbf-1295-46e6-b286-96e68d8fac8f",
   "metadata": {},
   "source": [
    "# Order Parameters:"
   ]
  },
  {
   "cell_type": "code",
   "execution_count": null,
   "id": "802b1044-c6a1-4677-a5d7-39914ef8f5ec",
   "metadata": {},
   "outputs": [],
   "source": [
    "job_filter = {\n",
    "    \"remove_hydrogens\": True,\n",
    "    \"remove_charges\": False,\n",
    "    #\"kT\": 3.0,\n",
    "    #\"doc.npt_equilibrated\": False,\n",
    "    \"sigma_scale\": 0.955\n",
    "}\n",
    "for job in project.find_jobs(filter=job_filter):\n",
    "    if job.sp.kT not in [2.7, 2.8, 2.9, 3.0, 3.1]:\n",
    "        continue\n",
    "    run = job.doc.npt_runs - 1\n",
    "    nem_orders = []\n",
    "    with gsd.hoomd.open(job.fn(f\"last-npt-cg.gsd\"), \"r\") as traj:\n",
    "        for snap in traj[0:-1:10]:\n",
    "            bond_vectors = get_bond_vectors(snap, bond_types=[\"A-A\"])\n",
    "            _nem_orders = []\n",
    "            for director in [(1, 0, 0), (0, 1, 0), (0, 0, 1), (1, 1, 1)]:\n",
    "                nem = nematic_order_parameter(vectors=bond_vectors, director=director)\n",
    "                _nem_orders.append(nem.order)\n",
    "            nem_orders.append(np.max(_nem_orders))\n",
    "    print(len(nem_orders))\n",
    "    job.doc.avg_nem = np.mean(nem_orders)\n",
    "    job.doc.nem_std = np.std(nem_orders)"
   ]
  },
  {
   "cell_type": "code",
   "execution_count": null,
   "id": "eb5f3d0a-1071-4819-834a-46b02ad26297",
   "metadata": {},
   "outputs": [],
   "source": [
    "job_filter = {\n",
    "    \"remove_hydrogens\": True,\n",
    "    \"remove_charges\": False,\n",
    "    #\"kT\": 3.0,\n",
    "    #\"doc.npt_equilibrated\": False,\n",
    "    \"sigma_scale\": 0.955\n",
    "}\n",
    "fig = plt.figure()\n",
    "temps = []\n",
    "avg_nems = []\n",
    "std_nems = []\n",
    "for kT, job in project.find_jobs(filter=job_filter).groupby(\"kT\"):\n",
    "    job = list(job)[0]\n",
    "    print(job.id, kT)\n",
    "    if job.sp.kT < 2.4: continue\n",
    "    try:\n",
    "        T = kT_to_T(job.sp.kT, epsilon=1065)\n",
    "        temps.append(T)\n",
    "        avg_nems.append(job.doc.avg_nem)\n",
    "        std_nems.append(job.doc.nem_std)\n",
    "        #plt.errorbar(x=T, y=job.doc.avg_nem, yerr=job.doc.nem_std, marker=\"o\", color=\"k\")\n",
    "    except:\n",
    "        pass\n",
    "        \n",
    "plt.vlines(x=(358.15-273.15), ymin=0.2, ymax=0.7, label=\"Tg\", linestyle=\"--\", color=\"r\")\n",
    "plt.vlines(x=(135), ymin=0.2, ymax=0.7, label=\"Tc Range\", linestyle=\"--\", color=\"orange\")\n",
    "plt.vlines(x=110.6, ymin=0.2, ymax=0.7, label=None, linestyle=\"--\", color=\"orange\")\n",
    "plt.vlines(x=(553.15-273.15), ymin=0.2, ymax=0.7, label=\"Tm\", linestyle=\"--\", color=\"g\")\n",
    "plt.errorbar(x=temps, y=avg_nems, yerr=std_nems, marker=\"o\", color=\"k\", linestyle=\"\")\n",
    "\n",
    "plt.ylim(0.2, 0.8)\n",
    "plt.legend()\n",
    "plt.xlabel(\"T (C)\")\n",
    "plt.ylabel(\"< S2 >\")\n",
    "plt.show()"
   ]
  },
  {
   "cell_type": "markdown",
   "id": "1a291efd-1861-4773-83e0-7ea07849bd07",
   "metadata": {},
   "source": [
    "# Radial Distribution Functions:"
   ]
  },
  {
   "cell_type": "code",
   "execution_count": null,
   "id": "a23fe94d-5619-49ef-8ae1-ff5e1ee1da02",
   "metadata": {},
   "outputs": [],
   "source": [
    "for kT, jobs in project.find_jobs({\"doc.npt_equilibrated\": False, \"sigma_scale\": 0.955}).groupby(\"kT\"):\n",
    "    print(kT)\n",
    "    if kT not in [2.7, 2.8, 2.9, 3.0, 3.1]:\n",
    "        continue\n",
    "    for job in jobs:\n",
    "        #if job.isfile(\"cg_rdf.txt\"):\n",
    "        #    continue\n",
    "        fpath = job.fn(\"last-npt-cg.gsd\")\n",
    "        rdf, N = gsd_rdf(gsdfile=fpath, start=-150, stop=-1, A_name=\"A\", B_name=\"A\", r_max=5, exclude_bonded=False)\n",
    "        save_data = np.vstack([rdf.bin_centers, rdf.rdf * N]).T\n",
    "        np.savetxt(job.fn(\"cg_rdf_bonded.txt\"), save_data)\n",
    "        print(kT)"
   ]
  },
  {
   "cell_type": "code",
   "execution_count": null,
   "id": "26e67bd3-c64b-4d82-96af-dd7b3e1f7ac5",
   "metadata": {},
   "outputs": [],
   "source": [
    "for kT, jobs in project.find_jobs({\"doc.npt_equilibrated\": False, \"sigma_scale\": 0.955}).groupby(\"kT\"):\n",
    "    print(kT)"
   ]
  },
  {
   "cell_type": "markdown",
   "id": "a474bc2f-24c0-4d96-82ba-9f8f84b72181",
   "metadata": {},
   "source": [
    "## Plot RDFs:"
   ]
  },
  {
   "cell_type": "code",
   "execution_count": null,
   "id": "a3699991-0540-42dc-bb98-ec394e21d423",
   "metadata": {},
   "outputs": [],
   "source": [
    "count = 0\n",
    "\n",
    "for kT, jobs in project.find_jobs(\n",
    "    {\n",
    "        #\"doc.npt_equilibrated\": False,\n",
    "         \"sigma_scale\": 0.955\n",
    "    }\n",
    ").groupby(\"kT\"):\n",
    "    if kT not in [2.7, 2.8, 2.9, 3.0, 3.1, 3.2, 3.3, 3.4]:\n",
    "        continue\n",
    "    for job in jobs:\n",
    "\n",
    "        print()\n",
    "        if not job.isfile(\"cg_rdf.txt\"):\n",
    "            continue\n",
    "        print(np.round(kT_to_T(job.sp.kT, epsilon=1065), 0))\n",
    "        print(job.path)\n",
    "        data = np.loadtxt(job.fn(\"cg_rdf.txt\"))\n",
    "        plt.plot(\n",
    "            data[:,0] * job.doc.ref_length, data[:,1] + count * 0.00,\n",
    "            label=np.round(kT_to_T(job.sp.kT, epsilon=1065), 0),\n",
    "            c=colors[count]\n",
    "        )\n",
    "        count += 1\n",
    "\n",
    "plt.vlines(x=0.561, ymin=0, ymax=1.0, linestyles=\"--\", colors=\"r\", label=\"0.561 nm\")\n",
    "#plt.vlines(x=0.516, ymin=0, ymax=1.0, linestyles=\"--\", colors=\"r\")\n",
    "plt.vlines(x=0.867, ymin=0, ymax=1.0, linestyles=\"--\", colors=\"purple\", label=\"0.867 nm\")\n",
    "plt.legend(title=\"Temp (C)\")\n",
    "plt.ylabel(\"g(r)\")\n",
    "plt.xlabel(\"r (nm)\")"
   ]
  },
  {
   "cell_type": "markdown",
   "id": "567f1345-5dec-4501-b2a5-d3d60dde938c",
   "metadata": {},
   "source": [
    "# Structure Factors:"
   ]
  },
  {
   "cell_type": "code",
   "execution_count": null,
   "id": "c5968e99-9fff-4ac9-b1a2-8cc8df91ec01",
   "metadata": {},
   "outputs": [],
   "source": [
    "count = 0\n",
    "\n",
    "for kT, jobs in project.find_jobs({\"sigma_scale\": 0.955}).groupby(\"kT\"):\n",
    "    if kT < 2.0: continue\n",
    "    for job in jobs:\n",
    "        fpath = job.fn(\"last-npt-cg.gsd\")\n",
    "        sf = structure_factor(gsdfile=fpath, k_min=0.5, k_max=25, start=-10, stop=-1, ref_length=None)\n",
    "        x = sf.bin_centers\n",
    "        y = sf.S_k\n",
    "        plt.plot(x, y+(count*0.25), label=kT, c=colors[count])\n",
    "        count += 1\n",
    "\n",
    "plt.legend(loc=\"right\")"
   ]
  },
  {
   "cell_type": "code",
   "execution_count": null,
   "id": "14dc0a6d-a484-4c11-910b-78a929ff997b",
   "metadata": {
    "scrolled": true
   },
   "outputs": [],
   "source": [
    "for kT, jobs in project.find_jobs({\"sigma_scale\": 0.955}).groupby(\"kT\"):\n",
    "    if kT < 2.0: continue\n",
    "    for job in jobs:\n",
    "        fig = plt.figure()\n",
    "        fpath = job.fn(f\"cg-npt.gsd\")\n",
    "        sf = structure_factor(gsdfile=fpath, k_min=0.5, k_max=20, start=-10, stop=-1, ref_length=None)\n",
    "        x = sf.bin_centers\n",
    "        y = sf.S_k\n",
    "        plt.plot(x, y, label=kT, c=colors[count])\n",
    "        plt.title(f\"kT: {kT}\")\n",
    "        plt.show()\n",
    "        print()"
   ]
  },
  {
   "cell_type": "code",
   "execution_count": null,
   "id": "cc47f45a-beaa-4105-a9a2-7c2839c668c2",
   "metadata": {},
   "outputs": [],
   "source": [
    "for kT, jobs in project.find_jobs({\"sigma_scale\": 0.955}).groupby(\"kT\"):\n",
    "    if kT < 2.0: continue\n",
    "    for job in jobs:\n",
    "        print(kT, job.path)"
   ]
  },
  {
   "cell_type": "code",
   "execution_count": null,
   "id": "a92392c6-13ca-4752-84f1-4ea8ec52a64b",
   "metadata": {},
   "outputs": [],
   "source": []
  },
  {
   "cell_type": "code",
   "execution_count": null,
   "id": "e0bd23e8-e4f0-4a42-b61d-e41bc12112a1",
   "metadata": {},
   "outputs": [],
   "source": [
    "for kT, jobs in project.find_jobs(\n",
    "    {\"doc.nvt_equilibrated\": True,\n",
    "     \"sigma_scale\": 0.955,\n",
    "     \"kT\": 2.4,\n",
    "     }).groupby(\"kT\"):\n",
    "    for job in jobs:\n",
    "        #if not job.isfile(\"ua_structure_factor.txt\"):\n",
    "        fpath = job.fn(f\"trajectory-nvt{job.doc.nvt_runs-1}.gsd\")\n",
    "        sf = structure_factor(gsdfile=fpath, k_min=0.5, k_max=30, start=-50, stop=-1, ref_distance=None)\n",
    "        x = sf.bin_centers\n",
    "        y = sf.S_k\n",
    "        save_data = np.vstack([sf.bin_centers, sf.S_k]).T\n",
    "        np.savetxt(job.fn(\"ua_structure_factor.txt\"), save_data)\n",
    "        #if not job.isfile(\"cg_structure_factor.txt\"):\n",
    "        cg_fpath = job.fn(\"cg-nvt.gsd\")\n",
    "        cg_sf = structure_factor(gsdfile=cg_fpath, k_min=0.5, k_max=30, start=-50, stop=-1, ref_distance=None)\n",
    "        x = cg_sf.bin_centers\n",
    "        y = cg_sf.S_k\n",
    "        save_data = np.vstack([cg_sf.bin_centers, cg_sf.S_k]).T\n",
    "        np.savetxt(job.fn(\"cg_structure_factor.txt\"), save_data)\n",
    "        #job.doc.sf_sampled = True"
   ]
  },
  {
   "cell_type": "code",
   "execution_count": null,
   "id": "38c73f15-fdb4-42df-86a0-67369813d30e",
   "metadata": {},
   "outputs": [],
   "source": [
    "plt.plot(sf.bin_centers, sf.S_k, label=kT)"
   ]
  },
  {
   "cell_type": "code",
   "execution_count": null,
   "id": "e010d694-be8d-4a9c-8663-e347fa2a6d7e",
   "metadata": {},
   "outputs": [],
   "source": [
    "for kT, jobs in project.find_jobs({\"doc.nvt_equilibrated\": True, \"sigma_scale\": 0.955}).groupby(\"kT\"):\n",
    "    for job in jobs:\n",
    "        fig = plt.figure()\n",
    "        sf = np.loadtxt(job.fn(\"ua_structure_factor.txt\"))\n",
    "        plt.plot(sf[:,0], sf[:,1], label=kT)\n",
    "        plt.legend()\n",
    "        plt.show()\n",
    "\n",
    "#plt.legend()\n",
    "#plt.ylim(0, 4)\n",
    "#plt.show()"
   ]
  },
  {
   "cell_type": "markdown",
   "id": "02d1a8bd-0a71-4965-8c23-4ff11d67f4c1",
   "metadata": {},
   "source": [
    "# Diffraction Patterns:"
   ]
  },
  {
   "cell_type": "code",
   "execution_count": null,
   "id": "3c921421-6947-4843-804f-43ace8ca32e8",
   "metadata": {},
   "outputs": [],
   "source": [
    "job_filter = {\n",
    "    \"remove_hydrogens\": True,\n",
    "    \"remove_charges\": False,\n",
    "    \"kT\": 3.0,\n",
    "    \"doc.npt_equilibrated\": False,\n",
    "    \"sigma_scale\": 0.955\n",
    "}\n",
    "for job in project.find_jobs(filter=job_filter):\n",
    "    print(job)"
   ]
  },
  {
   "cell_type": "code",
   "execution_count": null,
   "id": "623eb7f5-6f4c-4fba-b7b2-79c75ca6dab3",
   "metadata": {},
   "outputs": [],
   "source": [
    "views = get_quaternions(n_views=12)"
   ]
  },
  {
   "cell_type": "code",
   "execution_count": null,
   "id": "4dd1b015-cd77-44e6-8772-ac9b613c11ba",
   "metadata": {},
   "outputs": [],
   "source": [
    "job_filter = {\n",
    "    \"remove_hydrogens\": True,\n",
    "    \"remove_charges\": False,\n",
    "    \"kT\": 3.1,\n",
    "    \"doc.npt_equilibrated\": False,\n",
    "    \"sigma_scale\": 0.955\n",
    "}\n",
    "\n",
    "for job in project.find_jobs(filter=job_filter):\n",
    "    print(job.path)\n",
    "    dp = diffraction_pattern(\n",
    "        gsdfile=job.fn(\"trajectory-npt20.gsd\"),\n",
    "        views=views,\n",
    "        start=-20,\n",
    "        stop=-1,\n",
    "    )"
   ]
  },
  {
   "cell_type": "code",
   "execution_count": null,
   "id": "cb204658-e316-423f-b9f0-4080d0d70ced",
   "metadata": {},
   "outputs": [],
   "source": [
    "dp.plot()"
   ]
  },
  {
   "cell_type": "code",
   "execution_count": null,
   "id": "524159e3-2abc-4056-8b6c-e10695d4b846",
   "metadata": {},
   "outputs": [],
   "source": [
    "views = get_quaternions(n_views=4)"
   ]
  },
  {
   "cell_type": "code",
   "execution_count": null,
   "id": "0d40e25a-752b-4b19-9696-9093b4c58381",
   "metadata": {},
   "outputs": [],
   "source": [
    "run = 25\n",
    "\n",
    "pic_count = 0\n",
    "\n",
    "for i in range(1, 26):\n",
    "    gsdfile = job.fn(f\"trajectory-npt{i}.gsd\")\n",
    "    with gsd.hoomd.open(gsdfile) as traj:\n",
    "        num_frames = len(traj)\n",
    "        print(i, num_frames)\n",
    "    for j in range(10, num_frames-10, 10):\n",
    "        dp = diffraction_pattern(\n",
    "            gsdfile=job.fn(f\"trajectory-npt{i}.gsd\"),\n",
    "            views=[views[1]],\n",
    "            start=j-10,\n",
    "            stop=j\n",
    "        )\n",
    "        dp.plot().figure.savefig(f\"images/dp{pic_count}.png\")\n",
    "        pic_count += 1"
   ]
  },
  {
   "cell_type": "code",
   "execution_count": null,
   "id": "f4f31aff-0b34-4518-9118-604c7d568551",
   "metadata": {},
   "outputs": [],
   "source": []
  },
  {
   "cell_type": "code",
   "execution_count": null,
   "id": "f63fa24c-adde-41de-8a3c-01ae51021494",
   "metadata": {},
   "outputs": [],
   "source": [
    "dp.plot().figure.savefig(\"test.png\")"
   ]
  },
  {
   "cell_type": "code",
   "execution_count": null,
   "id": "1871dd74-91f9-47f9-b32f-4c3bcc293c9f",
   "metadata": {},
   "outputs": [],
   "source": [
    "job.doc.npt_runs"
   ]
  },
  {
   "cell_type": "code",
   "execution_count": null,
   "id": "b3658eff-568b-4308-b473-5cb678f7ff7a",
   "metadata": {},
   "outputs": [],
   "source": [
    "movie_maker(file_dir=\"images/\", img_file_type=\"png\", mov_file_name=\"pps_diff.mp4\", framerate=80)"
   ]
  },
  {
   "cell_type": "code",
   "execution_count": null,
   "id": "0a0d3dfd-e679-473e-b86f-21a316485f5d",
   "metadata": {},
   "outputs": [],
   "source": []
  }
 ],
 "metadata": {
  "kernelspec": {
   "display_name": "Python 3 (ipykernel)",
   "language": "python",
   "name": "python3"
  },
  "language_info": {
   "codemirror_mode": {
    "name": "ipython",
    "version": 3
   },
   "file_extension": ".py",
   "mimetype": "text/x-python",
   "name": "python",
   "nbconvert_exporter": "python",
   "pygments_lexer": "ipython3",
   "version": "3.11.8"
  }
 },
 "nbformat": 4,
 "nbformat_minor": 5
}
