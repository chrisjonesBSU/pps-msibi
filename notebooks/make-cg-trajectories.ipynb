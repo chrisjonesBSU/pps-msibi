{
 "cells": [
  {
   "cell_type": "code",
   "execution_count": 2,
   "id": "0367a740-a0e7-4b5d-ba8f-22553ec18e39",
   "metadata": {},
   "outputs": [
    {
     "name": "stderr",
     "output_type": "stream",
     "text": [
      "/home/chrisjones4/miniconda3/envs/pps-msibi/lib/python3.11/site-packages/mdtraj/formats/__init__.py:6: DeprecationWarning: 'xdrlib' is deprecated and slated for removal in Python 3.13\n",
      "  from .xtc import XTCTrajectoryFile\n",
      "/home/chrisjones4/miniconda3/envs/pps-msibi/lib/python3.11/site-packages/mdtraj/geometry/order.py:25: DeprecationWarning: pkg_resources is deprecated as an API. See https://setuptools.pypa.io/en/latest/pkg_resources.html\n",
      "  from pkg_resources import parse_version\n",
      "/home/chrisjones4/miniconda3/envs/pps-msibi/lib/python3.11/site-packages/pkg_resources/__init__.py:2846: DeprecationWarning: Deprecated call to `pkg_resources.declare_namespace('google')`.\n",
      "Implementing implicit namespace packages (as specified in PEP 420) is preferred to `pkg_resources.declare_namespace`. See https://setuptools.pypa.io/en/latest/references/keywords.html#keyword-namespace-packages\n",
      "  declare_namespace(pkg)\n",
      "/home/chrisjones4/miniconda3/envs/pps-msibi/lib/python3.11/site-packages/lark/utils.py:163: DeprecationWarning: module 'sre_parse' is deprecated\n",
      "  import sre_parse\n",
      "/home/chrisjones4/miniconda3/envs/pps-msibi/lib/python3.11/site-packages/lark/utils.py:164: DeprecationWarning: module 'sre_constants' is deprecated\n",
      "  import sre_constants\n",
      "/home/chrisjones4/miniconda3/envs/pps-msibi/lib/python3.11/site-packages/mbuild/recipes/__init__.py:13: DeprecationWarning: SelectableGroups dict interface is deprecated. Use select.\n",
      "  entry_points = metadata.entry_points()[\"mbuild.plugins\"]\n"
     ]
    }
   ],
   "source": [
    "import signac\n",
    "import gsd.hoomd\n",
    "import os\n",
    "import grits\n",
    "from grits import CG_System\n",
    "import ele"
   ]
  },
  {
   "cell_type": "code",
   "execution_count": 3,
   "id": "c630e549-9660-408e-a082-2e20c90eceff",
   "metadata": {},
   "outputs": [],
   "source": [
    "conv_dict = {\n",
    "    \"ca\": ele.element_from_symbol(\"C\"),\n",
    "    \"s\": ele.element_from_symbol(\"S\"),\n",
    "    \"sh\": ele.element_from_symbol(\"S\"),\n",
    "    \"ha\": ele.element_from_symbol(\"H\"),\n",
    "    \"hs\": ele.element_from_symbol(\"H\"),\n",
    "}\n",
    "\n",
    "one_bead_mapping = \"c1ccc(S)cc1\"\n",
    "two_bead_mapping = \"c1ccc(S(c2ccc(S)cc2))cc1\"\n",
    "\n",
    "file_names = {\n",
    "    one_bead_mapping: \"target_1monomer_per_bead.gsd\",\n",
    "    two_bead_mapping: \"target_2monomer_per_bead.gsd\"\n",
    "}"
   ]
  },
  {
   "cell_type": "markdown",
   "id": "49cd6e1f-4cca-4fa5-8090-933eb00bbed6",
   "metadata": {},
   "source": [
    "# Single Chain Trajectories"
   ]
  },
  {
   "cell_type": "code",
   "execution_count": 17,
   "id": "94b8a3a7-be25-4865-a3ab-c0e2edaa4d07",
   "metadata": {},
   "outputs": [
    {
     "name": "stderr",
     "output_type": "stream",
     "text": [
      "/home/chrisjones4/miniconda3/envs/pps-msibi/lib/python3.11/site-packages/gsd/hoomd.py:835: DeprecationWarning: The truth value of an empty array is ambiguous. Returning False, but in future this will result in an error. Use `array.size > 0` to check that an array is not empty.\n",
      "  if matches_default_value and not self._chunk_exists_frame_0.get(\n",
      "/home/chrisjones4/miniconda3/envs/pps-msibi/lib/python3.11/site-packages/gsd/hoomd.py:835: DeprecationWarning: The truth value of an empty array is ambiguous. Returning False, but in future this will result in an error. Use `array.size > 0` to check that an array is not empty.\n",
      "  if matches_default_value and not self._chunk_exists_frame_0.get(\n",
      "/home/chrisjones4/miniconda3/envs/pps-msibi/lib/python3.11/site-packages/gsd/hoomd.py:835: DeprecationWarning: The truth value of an empty array is ambiguous. Returning False, but in future this will result in an error. Use `array.size > 0` to check that an array is not empty.\n",
      "  if matches_default_value and not self._chunk_exists_frame_0.get(\n"
     ]
    },
    {
     "name": "stdout",
     "output_type": "stream",
     "text": [
      "Added 162 hydrogens.\n"
     ]
    },
    {
     "name": "stderr",
     "output_type": "stream",
     "text": [
      "/home/chrisjones4/miniconda3/envs/pps-msibi/lib/python3.11/site-packages/gsd/hoomd.py:835: DeprecationWarning: The truth value of an empty array is ambiguous. Returning False, but in future this will result in an error. Use `array.size > 0` to check that an array is not empty.\n",
      "  if matches_default_value and not self._chunk_exists_frame_0.get(\n"
     ]
    },
    {
     "name": "stdout",
     "output_type": "stream",
     "text": [
      "Added 162 hydrogens.\n"
     ]
    },
    {
     "name": "stderr",
     "output_type": "stream",
     "text": [
      "/home/chrisjones4/miniconda3/envs/pps-msibi/lib/python3.11/site-packages/gsd/hoomd.py:835: DeprecationWarning: The truth value of an empty array is ambiguous. Returning False, but in future this will result in an error. Use `array.size > 0` to check that an array is not empty.\n",
      "  if matches_default_value and not self._chunk_exists_frame_0.get(\n"
     ]
    },
    {
     "name": "stdout",
     "output_type": "stream",
     "text": [
      "Added 162 hydrogens.\n"
     ]
    },
    {
     "name": "stderr",
     "output_type": "stream",
     "text": [
      "/home/chrisjones4/miniconda3/envs/pps-msibi/lib/python3.11/site-packages/gsd/hoomd.py:835: DeprecationWarning: The truth value of an empty array is ambiguous. Returning False, but in future this will result in an error. Use `array.size > 0` to check that an array is not empty.\n",
      "  if matches_default_value and not self._chunk_exists_frame_0.get(\n"
     ]
    },
    {
     "name": "stdout",
     "output_type": "stream",
     "text": [
      "Added 162 hydrogens.\n"
     ]
    },
    {
     "name": "stderr",
     "output_type": "stream",
     "text": [
      "/home/chrisjones4/miniconda3/envs/pps-msibi/lib/python3.11/site-packages/gsd/hoomd.py:835: DeprecationWarning: The truth value of an empty array is ambiguous. Returning False, but in future this will result in an error. Use `array.size > 0` to check that an array is not empty.\n",
      "  if matches_default_value and not self._chunk_exists_frame_0.get(\n",
      "/home/chrisjones4/miniconda3/envs/pps-msibi/lib/python3.11/site-packages/gsd/hoomd.py:835: DeprecationWarning: The truth value of an empty array is ambiguous. Returning False, but in future this will result in an error. Use `array.size > 0` to check that an array is not empty.\n",
      "  if matches_default_value and not self._chunk_exists_frame_0.get(\n",
      "/home/chrisjones4/miniconda3/envs/pps-msibi/lib/python3.11/site-packages/gsd/hoomd.py:835: DeprecationWarning: The truth value of an empty array is ambiguous. Returning False, but in future this will result in an error. Use `array.size > 0` to check that an array is not empty.\n",
      "  if matches_default_value and not self._chunk_exists_frame_0.get(\n",
      "/home/chrisjones4/miniconda3/envs/pps-msibi/lib/python3.11/site-packages/gsd/hoomd.py:835: DeprecationWarning: The truth value of an empty array is ambiguous. Returning False, but in future this will result in an error. Use `array.size > 0` to check that an array is not empty.\n",
      "  if matches_default_value and not self._chunk_exists_frame_0.get(\n",
      "/home/chrisjones4/miniconda3/envs/pps-msibi/lib/python3.11/site-packages/gsd/hoomd.py:835: DeprecationWarning: The truth value of an empty array is ambiguous. Returning False, but in future this will result in an error. Use `array.size > 0` to check that an array is not empty.\n",
      "  if matches_default_value and not self._chunk_exists_frame_0.get(\n"
     ]
    },
    {
     "name": "stdout",
     "output_type": "stream",
     "text": [
      "Added 242 hydrogens.\n"
     ]
    },
    {
     "name": "stderr",
     "output_type": "stream",
     "text": [
      "/home/chrisjones4/miniconda3/envs/pps-msibi/lib/python3.11/site-packages/gsd/hoomd.py:835: DeprecationWarning: The truth value of an empty array is ambiguous. Returning False, but in future this will result in an error. Use `array.size > 0` to check that an array is not empty.\n",
      "  if matches_default_value and not self._chunk_exists_frame_0.get(\n"
     ]
    },
    {
     "name": "stdout",
     "output_type": "stream",
     "text": [
      "Added 242 hydrogens.\n"
     ]
    },
    {
     "name": "stderr",
     "output_type": "stream",
     "text": [
      "/home/chrisjones4/miniconda3/envs/pps-msibi/lib/python3.11/site-packages/gsd/hoomd.py:835: DeprecationWarning: The truth value of an empty array is ambiguous. Returning False, but in future this will result in an error. Use `array.size > 0` to check that an array is not empty.\n",
      "  if matches_default_value and not self._chunk_exists_frame_0.get(\n"
     ]
    },
    {
     "name": "stdout",
     "output_type": "stream",
     "text": [
      "Added 242 hydrogens.\n"
     ]
    },
    {
     "name": "stderr",
     "output_type": "stream",
     "text": [
      "/home/chrisjones4/miniconda3/envs/pps-msibi/lib/python3.11/site-packages/gsd/hoomd.py:835: DeprecationWarning: The truth value of an empty array is ambiguous. Returning False, but in future this will result in an error. Use `array.size > 0` to check that an array is not empty.\n",
      "  if matches_default_value and not self._chunk_exists_frame_0.get(\n"
     ]
    },
    {
     "name": "stdout",
     "output_type": "stream",
     "text": [
      "Added 242 hydrogens.\n"
     ]
    },
    {
     "name": "stderr",
     "output_type": "stream",
     "text": [
      "/home/chrisjones4/miniconda3/envs/pps-msibi/lib/python3.11/site-packages/gsd/hoomd.py:835: DeprecationWarning: The truth value of an empty array is ambiguous. Returning False, but in future this will result in an error. Use `array.size > 0` to check that an array is not empty.\n",
      "  if matches_default_value and not self._chunk_exists_frame_0.get(\n",
      "/home/chrisjones4/miniconda3/envs/pps-msibi/lib/python3.11/site-packages/gsd/hoomd.py:835: DeprecationWarning: The truth value of an empty array is ambiguous. Returning False, but in future this will result in an error. Use `array.size > 0` to check that an array is not empty.\n",
      "  if matches_default_value and not self._chunk_exists_frame_0.get(\n",
      "/home/chrisjones4/miniconda3/envs/pps-msibi/lib/python3.11/site-packages/gsd/hoomd.py:835: DeprecationWarning: The truth value of an empty array is ambiguous. Returning False, but in future this will result in an error. Use `array.size > 0` to check that an array is not empty.\n",
      "  if matches_default_value and not self._chunk_exists_frame_0.get(\n",
      "/home/chrisjones4/miniconda3/envs/pps-msibi/lib/python3.11/site-packages/gsd/hoomd.py:835: DeprecationWarning: The truth value of an empty array is ambiguous. Returning False, but in future this will result in an error. Use `array.size > 0` to check that an array is not empty.\n",
      "  if matches_default_value and not self._chunk_exists_frame_0.get(\n",
      "/home/chrisjones4/miniconda3/envs/pps-msibi/lib/python3.11/site-packages/gsd/hoomd.py:835: DeprecationWarning: The truth value of an empty array is ambiguous. Returning False, but in future this will result in an error. Use `array.size > 0` to check that an array is not empty.\n",
      "  if matches_default_value and not self._chunk_exists_frame_0.get(\n"
     ]
    },
    {
     "name": "stdout",
     "output_type": "stream",
     "text": [
      "Added 322 hydrogens.\n"
     ]
    },
    {
     "name": "stderr",
     "output_type": "stream",
     "text": [
      "/home/chrisjones4/miniconda3/envs/pps-msibi/lib/python3.11/site-packages/gsd/hoomd.py:835: DeprecationWarning: The truth value of an empty array is ambiguous. Returning False, but in future this will result in an error. Use `array.size > 0` to check that an array is not empty.\n",
      "  if matches_default_value and not self._chunk_exists_frame_0.get(\n"
     ]
    },
    {
     "name": "stdout",
     "output_type": "stream",
     "text": [
      "Added 322 hydrogens.\n"
     ]
    },
    {
     "name": "stderr",
     "output_type": "stream",
     "text": [
      "/home/chrisjones4/miniconda3/envs/pps-msibi/lib/python3.11/site-packages/gsd/hoomd.py:835: DeprecationWarning: The truth value of an empty array is ambiguous. Returning False, but in future this will result in an error. Use `array.size > 0` to check that an array is not empty.\n",
      "  if matches_default_value and not self._chunk_exists_frame_0.get(\n"
     ]
    },
    {
     "name": "stdout",
     "output_type": "stream",
     "text": [
      "Added 322 hydrogens.\n"
     ]
    },
    {
     "name": "stderr",
     "output_type": "stream",
     "text": [
      "/home/chrisjones4/miniconda3/envs/pps-msibi/lib/python3.11/site-packages/gsd/hoomd.py:835: DeprecationWarning: The truth value of an empty array is ambiguous. Returning False, but in future this will result in an error. Use `array.size > 0` to check that an array is not empty.\n",
      "  if matches_default_value and not self._chunk_exists_frame_0.get(\n",
      "/home/chrisjones4/miniconda3/envs/pps-msibi/lib/python3.11/site-packages/gsd/hoomd.py:835: DeprecationWarning: The truth value of an empty array is ambiguous. Returning False, but in future this will result in an error. Use `array.size > 0` to check that an array is not empty.\n",
      "  if matches_default_value and not self._chunk_exists_frame_0.get(\n",
      "/home/chrisjones4/miniconda3/envs/pps-msibi/lib/python3.11/site-packages/gsd/hoomd.py:835: DeprecationWarning: The truth value of an empty array is ambiguous. Returning False, but in future this will result in an error. Use `array.size > 0` to check that an array is not empty.\n",
      "  if matches_default_value and not self._chunk_exists_frame_0.get(\n",
      "/home/chrisjones4/miniconda3/envs/pps-msibi/lib/python3.11/site-packages/gsd/hoomd.py:835: DeprecationWarning: The truth value of an empty array is ambiguous. Returning False, but in future this will result in an error. Use `array.size > 0` to check that an array is not empty.\n",
      "  if matches_default_value and not self._chunk_exists_frame_0.get(\n"
     ]
    },
    {
     "name": "stdout",
     "output_type": "stream",
     "text": [
      "Added 322 hydrogens.\n"
     ]
    },
    {
     "name": "stderr",
     "output_type": "stream",
     "text": [
      "/home/chrisjones4/miniconda3/envs/pps-msibi/lib/python3.11/site-packages/gsd/hoomd.py:835: DeprecationWarning: The truth value of an empty array is ambiguous. Returning False, but in future this will result in an error. Use `array.size > 0` to check that an array is not empty.\n",
      "  if matches_default_value and not self._chunk_exists_frame_0.get(\n",
      "/home/chrisjones4/miniconda3/envs/pps-msibi/lib/python3.11/site-packages/gsd/hoomd.py:835: DeprecationWarning: The truth value of an empty array is ambiguous. Returning False, but in future this will result in an error. Use `array.size > 0` to check that an array is not empty.\n",
      "  if matches_default_value and not self._chunk_exists_frame_0.get(\n"
     ]
    },
    {
     "name": "stdout",
     "output_type": "stream",
     "text": [
      "Added 82 hydrogens.\n"
     ]
    },
    {
     "name": "stderr",
     "output_type": "stream",
     "text": [
      "/home/chrisjones4/miniconda3/envs/pps-msibi/lib/python3.11/site-packages/gsd/hoomd.py:835: DeprecationWarning: The truth value of an empty array is ambiguous. Returning False, but in future this will result in an error. Use `array.size > 0` to check that an array is not empty.\n",
      "  if matches_default_value and not self._chunk_exists_frame_0.get(\n"
     ]
    },
    {
     "name": "stdout",
     "output_type": "stream",
     "text": [
      "Added 82 hydrogens.\n"
     ]
    },
    {
     "name": "stderr",
     "output_type": "stream",
     "text": [
      "/home/chrisjones4/miniconda3/envs/pps-msibi/lib/python3.11/site-packages/gsd/hoomd.py:835: DeprecationWarning: The truth value of an empty array is ambiguous. Returning False, but in future this will result in an error. Use `array.size > 0` to check that an array is not empty.\n",
      "  if matches_default_value and not self._chunk_exists_frame_0.get(\n"
     ]
    },
    {
     "name": "stdout",
     "output_type": "stream",
     "text": [
      "Added 82 hydrogens.\n"
     ]
    },
    {
     "name": "stderr",
     "output_type": "stream",
     "text": [
      "/home/chrisjones4/miniconda3/envs/pps-msibi/lib/python3.11/site-packages/gsd/hoomd.py:835: DeprecationWarning: The truth value of an empty array is ambiguous. Returning False, but in future this will result in an error. Use `array.size > 0` to check that an array is not empty.\n",
      "  if matches_default_value and not self._chunk_exists_frame_0.get(\n"
     ]
    },
    {
     "name": "stdout",
     "output_type": "stream",
     "text": [
      "Added 82 hydrogens.\n"
     ]
    },
    {
     "name": "stderr",
     "output_type": "stream",
     "text": [
      "/home/chrisjones4/miniconda3/envs/pps-msibi/lib/python3.11/site-packages/gsd/hoomd.py:835: DeprecationWarning: The truth value of an empty array is ambiguous. Returning False, but in future this will result in an error. Use `array.size > 0` to check that an array is not empty.\n",
      "  if matches_default_value and not self._chunk_exists_frame_0.get(\n",
      "/home/chrisjones4/miniconda3/envs/pps-msibi/lib/python3.11/site-packages/gsd/hoomd.py:835: DeprecationWarning: The truth value of an empty array is ambiguous. Returning False, but in future this will result in an error. Use `array.size > 0` to check that an array is not empty.\n",
      "  if matches_default_value and not self._chunk_exists_frame_0.get(\n"
     ]
    },
    {
     "name": "stdout",
     "output_type": "stream",
     "text": [
      "Added 10 hydrogens.\n",
      "Added 10 hydrogens.\n",
      "Added 10 hydrogens.\n",
      "Added 10 hydrogens.\n"
     ]
    }
   ],
   "source": [
    "project = signac.get_project(\"../training-runs/single-chains/\")\n",
    "#project = signac.get_project(\"../training-runs/low-density-state/\")\n",
    "mapping = two_bead_mapping\n",
    "\n",
    "for job in project.find_jobs():\n",
    "    gsd_path = job.fn(f\"trajectory{job.doc.runs - 1}.gsd\")\n",
    "    cg_system = CG_System(\n",
    "        gsdfile=gsd_path,\n",
    "        beads={\"A\": mapping},\n",
    "        conversion_dict=conv_dict,\n",
    "        add_hydrogens=job.sp.remove_hydrogens\n",
    "    )\n",
    "    \n",
    "    cg_system.save(job.fn(file_names[mapping]))"
   ]
  },
  {
   "cell_type": "markdown",
   "id": "9126c603-5e84-4b5c-93ad-b7095feafc87",
   "metadata": {},
   "source": [
    "# Low Density 2 Chain Trajectories:"
   ]
  },
  {
   "cell_type": "code",
   "execution_count": null,
   "id": "6bbbfe4a-9089-4cd9-8928-378227ecfd77",
   "metadata": {},
   "outputs": [],
   "source": []
  },
  {
   "cell_type": "code",
   "execution_count": null,
   "id": "b5e5b2e7-151c-4387-9b46-a259dab6e66b",
   "metadata": {},
   "outputs": [],
   "source": []
  },
  {
   "cell_type": "code",
   "execution_count": null,
   "id": "37cd099e-aca1-49ec-9807-dcd5e1d0dce0",
   "metadata": {},
   "outputs": [],
   "source": []
  },
  {
   "cell_type": "markdown",
   "id": "65150f26-b218-4a72-beed-0b529f3b26fd",
   "metadata": {},
   "source": [
    "# Bulk Trajectories:"
   ]
  },
  {
   "cell_type": "code",
   "execution_count": 4,
   "id": "f30c5efb-d05a-4c0b-86b0-73bf707c8c5d",
   "metadata": {},
   "outputs": [],
   "source": [
    "project = signac.get_project(\"../validation\")"
   ]
  },
  {
   "cell_type": "code",
   "execution_count": 5,
   "id": "e55f3688-3fc8-423d-a495-23d54eb9bc16",
   "metadata": {},
   "outputs": [],
   "source": [
    "def append_first_frame(job):\n",
    "    fpath = job.fn(f\"trajectory-nvt{job.doc.nvt_runs-1}.gsd\")\n",
    "\n",
    "    with gsd.hoomd.open(job.fn(\"combined-nvt.gsd\"), \"w\") as new_traj:\n",
    "        with gsd.hoomd.open(job.fn(\"trajectory-npt0.gsd\"), \"r\") as init_traj:\n",
    "            new_traj.append(init_traj[0])\n",
    "        with gsd.hoomd.open(fpath) as nvt_traj:\n",
    "            for frame in nvt_traj:\n",
    "                new_traj.append(frame)\n",
    "\n",
    "def append_first_frame_npt(job):\n",
    "    run = int(job.doc.npt_runs - 1)\n",
    "    fpath = job.fn(f\"trajectory-npt{run}.gsd\")\n",
    "    # combined-npt.gsd = last npt trajectory with initial frame appended to the front\n",
    "    with gsd.hoomd.open(job.fn(\"combined-npt.gsd\"), \"w\") as new_traj:\n",
    "        with gsd.hoomd.open(job.fn(\"trajectory-npt0.gsd\"), \"r\") as init_traj:\n",
    "            new_traj.append(init_traj[0])\n",
    "        with gsd.hoomd.open(fpath) as last_npt_traj:\n",
    "            for frame in last_npt_traj:\n",
    "                new_traj.append(frame)"
   ]
  },
  {
   "cell_type": "markdown",
   "id": "d8d06ba4-705b-414f-8435-ad57a983c60d",
   "metadata": {},
   "source": [
    "# Corase-grain the trajectories:"
   ]
  },
  {
   "cell_type": "code",
   "execution_count": 6,
   "id": "dc5ed6d3-cdce-4ab0-969a-00827f53e37f",
   "metadata": {},
   "outputs": [],
   "source": [
    "def coarse_grain_last_npt(job):\n",
    "    # Make the GSD file we need to pass into GRiTS\n",
    "    run = job.doc.npt_runs - 1\n",
    "    if run != 0:\n",
    "        fpath = job.fn(f\"trajectory-npt{run}.gsd\")\n",
    "        with gsd.hoomd.open(job.fn(\"temp-npt.gsd\"), \"w\") as temp_traj: # Delete this traj after CGing\n",
    "            with gsd.hoomd.open(fpath, \"r\") as last_traj:\n",
    "                with gsd.hoomd.open(job.fn(\"trajectory-npt0.gsd\"), \"r\") as init_traj:\n",
    "                    temp_traj.append(init_traj[0])\n",
    "                    for frame in last_traj:\n",
    "                        temp_traj.append(frame)\n",
    "        cg_system = grits.coarsegrain.CG_System(\n",
    "            gsdfile=job.fn(\"temp-npt.gsd\"),\n",
    "            beads={\"A\": one_bead_mapping},\n",
    "            add_hydrogens=job.sp.remove_hydrogens,\n",
    "            conversion_dict=conv_dict\n",
    "        )\n",
    "    else:\n",
    "        cg_system = grits.coarsegrain.CG_System(\n",
    "            gsdfile=job.fn(\"trajectory-npt0.gsd\"),\n",
    "            beads={\"A\": one_bead_mapping},\n",
    "            add_hydrogens=job.sp.remove_hydrogens,\n",
    "            conversion_dict=conv_dict\n",
    "        )\n",
    "    \n",
    "\n",
    "    cg_system.save(job.fn(file_names[one_bead_mapping]))\n",
    "    #os.remove(job.fn(\"temp-npt.gsd\"))\n",
    "\n",
    "\n",
    "def coarse_grain_last_nvt(job, mapping):\n",
    "    # Make the GSD file we need to pass into GRiTS\n",
    "    run = job.doc.nvt_runs - 1\n",
    "    fpath = job.fn(f\"trajectory-nvt{run}.gsd\")\n",
    "    with gsd.hoomd.open(job.fn(\"temp-npt.gsd\"), \"w\") as temp_traj: # Delete this traj after CGing\n",
    "        with gsd.hoomd.open(fpath, \"r\") as last_traj:\n",
    "            with gsd.hoomd.open(job.fn(\"trajectory-npt0.gsd\"), \"r\") as init_traj:\n",
    "                temp_traj.append(init_traj[0])\n",
    "                for frame in last_traj:\n",
    "                    temp_traj.append(frame)\n",
    "    cg_system = grits.coarsegrain.CG_System(\n",
    "        gsdfile=job.fn(\"temp-npt.gsd\"),\n",
    "        beads={\"A\": mapping},\n",
    "        add_hydrogens=job.sp.remove_hydrogens,\n",
    "        conversion_dict=conv_dict\n",
    "    )\n",
    "\n",
    "    cg_system.save(job.fn(file_names[mapping]))\n",
    "    #os.remove(job.fn(\"temp-npt.gsd\"))"
   ]
  },
  {
   "cell_type": "code",
   "execution_count": 6,
   "id": "fca138a7-7d2f-4fa2-b27b-bd8f40f9703d",
   "metadata": {},
   "outputs": [],
   "source": [
    "melt_job = project.open_job(id=\"212e36add95bb5744b05aa8ce8d29449\")"
   ]
  },
  {
   "cell_type": "code",
   "execution_count": 11,
   "id": "21400c76-47d4-406e-9dd7-0e22f929735f",
   "metadata": {},
   "outputs": [
    {
     "data": {
      "text/plain": [
       "True"
      ]
     },
     "execution_count": 11,
     "metadata": {},
     "output_type": "execute_result"
    }
   ],
   "source": [
    "melt_job.sp.remove_hydrogens"
   ]
  },
  {
   "cell_type": "code",
   "execution_count": 10,
   "id": "3beeb9ad-0a3c-4a6c-9078-42be5ef77cdc",
   "metadata": {},
   "outputs": [
    {
     "name": "stdout",
     "output_type": "stream",
     "text": [
      "Added 102 hydrogens.\n"
     ]
    },
    {
     "name": "stderr",
     "output_type": "stream",
     "text": [
      "/home/erjank_project/PPS-MSIBI/chris-scratch-space/repos/grits/grits/coarsegrain.py:193: UserWarning: Some atoms have been left out of coarse-graining!\n",
      "  warn(f\"Some atoms have been left out of coarse-graining!\")\n",
      "/home/chrisjones4/miniconda3/envs/pps-msibi/lib/python3.11/site-packages/gsd/hoomd.py:835: DeprecationWarning: The truth value of an empty array is ambiguous. Returning False, but in future this will result in an error. Use `array.size > 0` to check that an array is not empty.\n",
      "  if matches_default_value and not self._chunk_exists_frame_0.get(\n"
     ]
    }
   ],
   "source": [
    "coarse_grain_last_npt(melt_job)"
   ]
  },
  {
   "cell_type": "code",
   "execution_count": null,
   "id": "467b69d9-ec3a-4d3d-ab1e-23052dd3664e",
   "metadata": {},
   "outputs": [],
   "source": []
  },
  {
   "cell_type": "code",
   "execution_count": 10,
   "id": "07f9902f-e284-4d6a-b572-1883d9c98679",
   "metadata": {},
   "outputs": [],
   "source": [
    "amorph_tg = project.open_job(id=\"96282e58fc96112640e1330198828903\")\n",
    "melt = project.open_job(id=\"212e36add95bb5744b05aa8ce8d29449\")"
   ]
  },
  {
   "cell_type": "code",
   "execution_count": 11,
   "id": "4a6789e4-deb7-49c4-85fc-36908b3aaf20",
   "metadata": {},
   "outputs": [
    {
     "name": "stdout",
     "output_type": "stream",
     "text": [
      "Added 102 hydrogens.\n"
     ]
    },
    {
     "name": "stderr",
     "output_type": "stream",
     "text": [
      "/home/erjank_project/PPS-MSIBI/chris-scratch-space/repos/grits/grits/coarsegrain.py:193: UserWarning: Some atoms have been left out of coarse-graining!\n",
      "  warn(f\"Some atoms have been left out of coarse-graining!\")\n",
      "/home/chrisjones4/miniconda3/envs/pps-msibi/lib/python3.11/site-packages/gsd/hoomd.py:835: DeprecationWarning: The truth value of an empty array is ambiguous. Returning False, but in future this will result in an error. Use `array.size > 0` to check that an array is not empty.\n",
      "  if matches_default_value and not self._chunk_exists_frame_0.get(\n"
     ]
    }
   ],
   "source": [
    "coarse_grain_last_nvt(melt)"
   ]
  },
  {
   "cell_type": "code",
   "execution_count": 9,
   "id": "c642f074-34c1-4239-bb4c-6dce46a6aba2",
   "metadata": {},
   "outputs": [
    {
     "data": {
      "text/plain": [
       "'/home/erjank_project/PPS-MSIBI/pps-msibi/validation/workspace/96282e58fc96112640e1330198828903'"
      ]
     },
     "execution_count": 9,
     "metadata": {},
     "output_type": "execute_result"
    }
   ],
   "source": [
    "amorph_tg.path"
   ]
  },
  {
   "cell_type": "code",
   "execution_count": null,
   "id": "648141bc-9848-4c86-b246-be804bc60e42",
   "metadata": {},
   "outputs": [],
   "source": []
  },
  {
   "cell_type": "code",
   "execution_count": null,
   "id": "413f6a2b-950c-463d-be81-35a82bed1c15",
   "metadata": {},
   "outputs": [],
   "source": []
  },
  {
   "cell_type": "code",
   "execution_count": null,
   "id": "4ec07be6-81d7-43e5-b5df-3f68b4424edd",
   "metadata": {},
   "outputs": [],
   "source": []
  },
  {
   "cell_type": "code",
   "execution_count": null,
   "id": "49a467e9-aad3-4a10-a74e-74750c2ce6e4",
   "metadata": {},
   "outputs": [],
   "source": []
  },
  {
   "cell_type": "code",
   "execution_count": 7,
   "id": "f2260921-a07f-418e-8912-94304300f415",
   "metadata": {},
   "outputs": [
    {
     "name": "stdout",
     "output_type": "stream",
     "text": [
      "2.4 9142f5e776ff060fb7edb01495a9a86e\n",
      "Added 102 hydrogens.\n"
     ]
    },
    {
     "name": "stderr",
     "output_type": "stream",
     "text": [
      "/home/erjank_project/PPS-MSIBI/chris-scratch-space/repos/grits/grits/coarsegrain.py:193: UserWarning: Some atoms have been left out of coarse-graining!\n",
      "  warn(f\"Some atoms have been left out of coarse-graining!\")\n",
      "/home/chrisjones4/miniconda3/envs/pps-msibi/lib/python3.11/site-packages/gsd/hoomd.py:835: DeprecationWarning: The truth value of an empty array is ambiguous. Returning False, but in future this will result in an error. Use `array.size > 0` to check that an array is not empty.\n",
      "  if matches_default_value and not self._chunk_exists_frame_0.get(\n"
     ]
    },
    {
     "name": "stdout",
     "output_type": "stream",
     "text": [
      "\n",
      "2.5 1cbc57c38be8cfe0ae9994bcb19467e2\n",
      "Added 102 hydrogens.\n"
     ]
    },
    {
     "name": "stderr",
     "output_type": "stream",
     "text": [
      "/home/chrisjones4/miniconda3/envs/pps-msibi/lib/python3.11/site-packages/gsd/hoomd.py:835: DeprecationWarning: The truth value of an empty array is ambiguous. Returning False, but in future this will result in an error. Use `array.size > 0` to check that an array is not empty.\n",
      "  if matches_default_value and not self._chunk_exists_frame_0.get(\n"
     ]
    },
    {
     "name": "stdout",
     "output_type": "stream",
     "text": [
      "\n",
      "2.6 a5250cea52a262d308592249ce463d10\n",
      "Added 102 hydrogens.\n"
     ]
    },
    {
     "name": "stderr",
     "output_type": "stream",
     "text": [
      "/home/chrisjones4/miniconda3/envs/pps-msibi/lib/python3.11/site-packages/gsd/hoomd.py:835: DeprecationWarning: The truth value of an empty array is ambiguous. Returning False, but in future this will result in an error. Use `array.size > 0` to check that an array is not empty.\n",
      "  if matches_default_value and not self._chunk_exists_frame_0.get(\n"
     ]
    },
    {
     "name": "stdout",
     "output_type": "stream",
     "text": [
      "\n",
      "2.8 51e475756aeadda668351a024760dcda\n",
      "Added 102 hydrogens.\n"
     ]
    },
    {
     "name": "stderr",
     "output_type": "stream",
     "text": [
      "/home/chrisjones4/miniconda3/envs/pps-msibi/lib/python3.11/site-packages/gsd/hoomd.py:835: DeprecationWarning: The truth value of an empty array is ambiguous. Returning False, but in future this will result in an error. Use `array.size > 0` to check that an array is not empty.\n",
      "  if matches_default_value and not self._chunk_exists_frame_0.get(\n"
     ]
    },
    {
     "name": "stdout",
     "output_type": "stream",
     "text": [
      "\n",
      "2.9 9a2350bfd349debae443b6dd5f1beb2f\n",
      "Added 102 hydrogens.\n"
     ]
    },
    {
     "name": "stderr",
     "output_type": "stream",
     "text": [
      "/home/chrisjones4/miniconda3/envs/pps-msibi/lib/python3.11/site-packages/gsd/hoomd.py:835: DeprecationWarning: The truth value of an empty array is ambiguous. Returning False, but in future this will result in an error. Use `array.size > 0` to check that an array is not empty.\n",
      "  if matches_default_value and not self._chunk_exists_frame_0.get(\n"
     ]
    },
    {
     "name": "stdout",
     "output_type": "stream",
     "text": [
      "\n",
      "3.0 73e2a18dd6e440ba0066c934fcb829e0\n",
      "Added 102 hydrogens.\n"
     ]
    },
    {
     "name": "stderr",
     "output_type": "stream",
     "text": [
      "/home/chrisjones4/miniconda3/envs/pps-msibi/lib/python3.11/site-packages/gsd/hoomd.py:835: DeprecationWarning: The truth value of an empty array is ambiguous. Returning False, but in future this will result in an error. Use `array.size > 0` to check that an array is not empty.\n",
      "  if matches_default_value and not self._chunk_exists_frame_0.get(\n"
     ]
    },
    {
     "name": "stdout",
     "output_type": "stream",
     "text": [
      "\n",
      "3.1 100888a4bbe8114d13b7c682ba77a678\n",
      "Added 102 hydrogens.\n"
     ]
    },
    {
     "name": "stderr",
     "output_type": "stream",
     "text": [
      "/home/chrisjones4/miniconda3/envs/pps-msibi/lib/python3.11/site-packages/gsd/hoomd.py:835: DeprecationWarning: The truth value of an empty array is ambiguous. Returning False, but in future this will result in an error. Use `array.size > 0` to check that an array is not empty.\n",
      "  if matches_default_value and not self._chunk_exists_frame_0.get(\n"
     ]
    },
    {
     "name": "stdout",
     "output_type": "stream",
     "text": [
      "\n",
      "3.2 d4f337da0a7ee79a1778c858471aa917\n",
      "Added 102 hydrogens.\n"
     ]
    },
    {
     "name": "stderr",
     "output_type": "stream",
     "text": [
      "/home/chrisjones4/miniconda3/envs/pps-msibi/lib/python3.11/site-packages/gsd/hoomd.py:835: DeprecationWarning: The truth value of an empty array is ambiguous. Returning False, but in future this will result in an error. Use `array.size > 0` to check that an array is not empty.\n",
      "  if matches_default_value and not self._chunk_exists_frame_0.get(\n"
     ]
    },
    {
     "name": "stdout",
     "output_type": "stream",
     "text": [
      "\n",
      "3.4 39edcdb395b6b0d3c3028c6feb7547af\n",
      "Added 102 hydrogens.\n"
     ]
    },
    {
     "name": "stderr",
     "output_type": "stream",
     "text": [
      "/home/chrisjones4/miniconda3/envs/pps-msibi/lib/python3.11/site-packages/gsd/hoomd.py:835: DeprecationWarning: The truth value of an empty array is ambiguous. Returning False, but in future this will result in an error. Use `array.size > 0` to check that an array is not empty.\n",
      "  if matches_default_value and not self._chunk_exists_frame_0.get(\n"
     ]
    },
    {
     "name": "stdout",
     "output_type": "stream",
     "text": [
      "\n",
      "3.6 ddff72030898e479189cd2df660938e3\n",
      "Added 102 hydrogens.\n"
     ]
    },
    {
     "name": "stderr",
     "output_type": "stream",
     "text": [
      "/home/chrisjones4/miniconda3/envs/pps-msibi/lib/python3.11/site-packages/gsd/hoomd.py:835: DeprecationWarning: The truth value of an empty array is ambiguous. Returning False, but in future this will result in an error. Use `array.size > 0` to check that an array is not empty.\n",
      "  if matches_default_value and not self._chunk_exists_frame_0.get(\n"
     ]
    },
    {
     "name": "stdout",
     "output_type": "stream",
     "text": [
      "\n",
      "3.8 887213b5081db9f0d4bb1b606c0206a4\n",
      "Added 102 hydrogens.\n"
     ]
    },
    {
     "name": "stderr",
     "output_type": "stream",
     "text": [
      "/home/chrisjones4/miniconda3/envs/pps-msibi/lib/python3.11/site-packages/gsd/hoomd.py:835: DeprecationWarning: The truth value of an empty array is ambiguous. Returning False, but in future this will result in an error. Use `array.size > 0` to check that an array is not empty.\n",
      "  if matches_default_value and not self._chunk_exists_frame_0.get(\n"
     ]
    },
    {
     "name": "stdout",
     "output_type": "stream",
     "text": [
      "\n",
      "4.0 96282e58fc96112640e1330198828903\n",
      "Added 102 hydrogens.\n"
     ]
    },
    {
     "name": "stderr",
     "output_type": "stream",
     "text": [
      "/home/chrisjones4/miniconda3/envs/pps-msibi/lib/python3.11/site-packages/gsd/hoomd.py:835: DeprecationWarning: The truth value of an empty array is ambiguous. Returning False, but in future this will result in an error. Use `array.size > 0` to check that an array is not empty.\n",
      "  if matches_default_value and not self._chunk_exists_frame_0.get(\n"
     ]
    },
    {
     "name": "stdout",
     "output_type": "stream",
     "text": [
      "\n",
      "4.2 24e102558a3471c0accad805e64ff332\n",
      "Added 102 hydrogens.\n"
     ]
    },
    {
     "name": "stderr",
     "output_type": "stream",
     "text": [
      "/home/chrisjones4/miniconda3/envs/pps-msibi/lib/python3.11/site-packages/gsd/hoomd.py:835: DeprecationWarning: The truth value of an empty array is ambiguous. Returning False, but in future this will result in an error. Use `array.size > 0` to check that an array is not empty.\n",
      "  if matches_default_value and not self._chunk_exists_frame_0.get(\n"
     ]
    },
    {
     "name": "stdout",
     "output_type": "stream",
     "text": [
      "\n",
      "4.4 28aa0133175e9cf18fd68e541cb012ee\n",
      "Added 102 hydrogens.\n"
     ]
    },
    {
     "name": "stderr",
     "output_type": "stream",
     "text": [
      "/home/chrisjones4/miniconda3/envs/pps-msibi/lib/python3.11/site-packages/gsd/hoomd.py:835: DeprecationWarning: The truth value of an empty array is ambiguous. Returning False, but in future this will result in an error. Use `array.size > 0` to check that an array is not empty.\n",
      "  if matches_default_value and not self._chunk_exists_frame_0.get(\n"
     ]
    },
    {
     "name": "stdout",
     "output_type": "stream",
     "text": [
      "\n",
      "4.6 212e36add95bb5744b05aa8ce8d29449\n",
      "Added 102 hydrogens.\n"
     ]
    },
    {
     "name": "stderr",
     "output_type": "stream",
     "text": [
      "/home/chrisjones4/miniconda3/envs/pps-msibi/lib/python3.11/site-packages/gsd/hoomd.py:835: DeprecationWarning: The truth value of an empty array is ambiguous. Returning False, but in future this will result in an error. Use `array.size > 0` to check that an array is not empty.\n",
      "  if matches_default_value and not self._chunk_exists_frame_0.get(\n"
     ]
    },
    {
     "name": "stdout",
     "output_type": "stream",
     "text": [
      "\n"
     ]
    }
   ],
   "source": [
    "for kT, jobs in project.find_jobs({\"doc.nvt_equilibrated\": True, \"sigma_scale\": 0.955}).groupby(\"kT\"):\n",
    "    for job in jobs:\n",
    "        if job.sp.kT < 2.4: continue\n",
    "        print(job.sp.kT, job.id)\n",
    "        coarse_grain_last_nvt(job, mapping=two_bead_mapping)\n",
    "        print()"
   ]
  },
  {
   "cell_type": "code",
   "execution_count": null,
   "id": "734800bc-e9d1-47bd-bc04-d2fd0ad54c14",
   "metadata": {},
   "outputs": [],
   "source": []
  }
 ],
 "metadata": {
  "kernelspec": {
   "display_name": "Python 3 (ipykernel)",
   "language": "python",
   "name": "python3"
  },
  "language_info": {
   "codemirror_mode": {
    "name": "ipython",
    "version": 3
   },
   "file_extension": ".py",
   "mimetype": "text/x-python",
   "name": "python",
   "nbconvert_exporter": "python",
   "pygments_lexer": "ipython3",
   "version": "3.11.8"
  }
 },
 "nbformat": 4,
 "nbformat_minor": 5
}
