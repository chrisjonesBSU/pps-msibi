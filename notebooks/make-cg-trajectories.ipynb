{
 "cells": [
  {
   "cell_type": "code",
   "execution_count": 8,
   "id": "0367a740-a0e7-4b5d-ba8f-22553ec18e39",
   "metadata": {},
   "outputs": [],
   "source": [
    "import signac\n",
    "import gsd.hoomd\n",
    "import os\n",
    "import grits\n",
    "from grits import CG_System\n",
    "import ele"
   ]
  },
  {
   "cell_type": "code",
   "execution_count": 9,
   "id": "c630e549-9660-408e-a082-2e20c90eceff",
   "metadata": {},
   "outputs": [],
   "source": [
    "conv_dict = {\n",
    "    \"ca\": ele.element_from_symbol(\"C\"),\n",
    "    \"s\": ele.element_from_symbol(\"S\"),\n",
    "    \"sh\": ele.element_from_symbol(\"S\"),\n",
    "    \"ha\": ele.element_from_symbol(\"H\"),\n",
    "    \"hs\": ele.element_from_symbol(\"H\"),\n",
    "}\n",
    "\n",
    "one_bead_mapping = \"c1ccc(S)cc1\"\n",
    "two_bead_mapping = \"c1ccc(S(c2ccc(S)cc2))cc1\"\n",
    "\n",
    "file_names = {\n",
    "    one_bead_mapping: \"target_1monomer_per_bead.gsd\",\n",
    "    two_bead_mapping: \"target_2monomer_per_bead.gsd\"\n",
    "}"
   ]
  },
  {
   "cell_type": "markdown",
   "id": "49cd6e1f-4cca-4fa5-8090-933eb00bbed6",
   "metadata": {},
   "source": [
    "# Single Chain Trajectories"
   ]
  },
  {
   "cell_type": "code",
   "execution_count": 10,
   "id": "94b8a3a7-be25-4865-a3ab-c0e2edaa4d07",
   "metadata": {},
   "outputs": [
    {
     "name": "stderr",
     "output_type": "stream",
     "text": [
      "/home/chrisjones4/miniconda3/envs/pps-msibi/lib/python3.11/site-packages/gsd/hoomd.py:835: DeprecationWarning: The truth value of an empty array is ambiguous. Returning False, but in future this will result in an error. Use `array.size > 0` to check that an array is not empty.\n",
      "  if matches_default_value and not self._chunk_exists_frame_0.get(\n",
      "/home/chrisjones4/miniconda3/envs/pps-msibi/lib/python3.11/site-packages/gsd/hoomd.py:835: DeprecationWarning: The truth value of an empty array is ambiguous. Returning False, but in future this will result in an error. Use `array.size > 0` to check that an array is not empty.\n",
      "  if matches_default_value and not self._chunk_exists_frame_0.get(\n",
      "/home/chrisjones4/miniconda3/envs/pps-msibi/lib/python3.11/site-packages/gsd/hoomd.py:835: DeprecationWarning: The truth value of an empty array is ambiguous. Returning False, but in future this will result in an error. Use `array.size > 0` to check that an array is not empty.\n",
      "  if matches_default_value and not self._chunk_exists_frame_0.get(\n"
     ]
    },
    {
     "name": "stdout",
     "output_type": "stream",
     "text": [
      "Added 162 hydrogens.\n"
     ]
    },
    {
     "name": "stderr",
     "output_type": "stream",
     "text": [
      "/home/erjank_project/PPS-MSIBI/chris-scratch-space/repos/grits/grits/coarsegrain.py:193: UserWarning: Some atoms have been left out of coarse-graining!\n",
      "  warn(f\"Some atoms have been left out of coarse-graining!\")\n",
      "/home/chrisjones4/miniconda3/envs/pps-msibi/lib/python3.11/site-packages/gsd/hoomd.py:835: DeprecationWarning: The truth value of an empty array is ambiguous. Returning False, but in future this will result in an error. Use `array.size > 0` to check that an array is not empty.\n",
      "  if matches_default_value and not self._chunk_exists_frame_0.get(\n"
     ]
    },
    {
     "name": "stdout",
     "output_type": "stream",
     "text": [
      "Added 162 hydrogens.\n"
     ]
    },
    {
     "name": "stderr",
     "output_type": "stream",
     "text": [
      "/home/chrisjones4/miniconda3/envs/pps-msibi/lib/python3.11/site-packages/gsd/hoomd.py:835: DeprecationWarning: The truth value of an empty array is ambiguous. Returning False, but in future this will result in an error. Use `array.size > 0` to check that an array is not empty.\n",
      "  if matches_default_value and not self._chunk_exists_frame_0.get(\n"
     ]
    },
    {
     "name": "stdout",
     "output_type": "stream",
     "text": [
      "Added 162 hydrogens.\n"
     ]
    },
    {
     "name": "stderr",
     "output_type": "stream",
     "text": [
      "/home/chrisjones4/miniconda3/envs/pps-msibi/lib/python3.11/site-packages/gsd/hoomd.py:835: DeprecationWarning: The truth value of an empty array is ambiguous. Returning False, but in future this will result in an error. Use `array.size > 0` to check that an array is not empty.\n",
      "  if matches_default_value and not self._chunk_exists_frame_0.get(\n"
     ]
    },
    {
     "name": "stdout",
     "output_type": "stream",
     "text": [
      "Added 162 hydrogens.\n"
     ]
    },
    {
     "name": "stderr",
     "output_type": "stream",
     "text": [
      "/home/chrisjones4/miniconda3/envs/pps-msibi/lib/python3.11/site-packages/gsd/hoomd.py:835: DeprecationWarning: The truth value of an empty array is ambiguous. Returning False, but in future this will result in an error. Use `array.size > 0` to check that an array is not empty.\n",
      "  if matches_default_value and not self._chunk_exists_frame_0.get(\n",
      "/home/chrisjones4/miniconda3/envs/pps-msibi/lib/python3.11/site-packages/gsd/hoomd.py:835: DeprecationWarning: The truth value of an empty array is ambiguous. Returning False, but in future this will result in an error. Use `array.size > 0` to check that an array is not empty.\n",
      "  if matches_default_value and not self._chunk_exists_frame_0.get(\n",
      "/home/chrisjones4/miniconda3/envs/pps-msibi/lib/python3.11/site-packages/gsd/hoomd.py:835: DeprecationWarning: The truth value of an empty array is ambiguous. Returning False, but in future this will result in an error. Use `array.size > 0` to check that an array is not empty.\n",
      "  if matches_default_value and not self._chunk_exists_frame_0.get(\n",
      "/home/chrisjones4/miniconda3/envs/pps-msibi/lib/python3.11/site-packages/gsd/hoomd.py:835: DeprecationWarning: The truth value of an empty array is ambiguous. Returning False, but in future this will result in an error. Use `array.size > 0` to check that an array is not empty.\n",
      "  if matches_default_value and not self._chunk_exists_frame_0.get(\n",
      "/home/chrisjones4/miniconda3/envs/pps-msibi/lib/python3.11/site-packages/gsd/hoomd.py:835: DeprecationWarning: The truth value of an empty array is ambiguous. Returning False, but in future this will result in an error. Use `array.size > 0` to check that an array is not empty.\n",
      "  if matches_default_value and not self._chunk_exists_frame_0.get(\n"
     ]
    },
    {
     "name": "stdout",
     "output_type": "stream",
     "text": [
      "Added 242 hydrogens.\n"
     ]
    },
    {
     "name": "stderr",
     "output_type": "stream",
     "text": [
      "/home/chrisjones4/miniconda3/envs/pps-msibi/lib/python3.11/site-packages/gsd/hoomd.py:835: DeprecationWarning: The truth value of an empty array is ambiguous. Returning False, but in future this will result in an error. Use `array.size > 0` to check that an array is not empty.\n",
      "  if matches_default_value and not self._chunk_exists_frame_0.get(\n"
     ]
    },
    {
     "name": "stdout",
     "output_type": "stream",
     "text": [
      "Added 242 hydrogens.\n"
     ]
    },
    {
     "name": "stderr",
     "output_type": "stream",
     "text": [
      "/home/chrisjones4/miniconda3/envs/pps-msibi/lib/python3.11/site-packages/gsd/hoomd.py:835: DeprecationWarning: The truth value of an empty array is ambiguous. Returning False, but in future this will result in an error. Use `array.size > 0` to check that an array is not empty.\n",
      "  if matches_default_value and not self._chunk_exists_frame_0.get(\n"
     ]
    },
    {
     "name": "stdout",
     "output_type": "stream",
     "text": [
      "Added 242 hydrogens.\n"
     ]
    },
    {
     "name": "stderr",
     "output_type": "stream",
     "text": [
      "/home/chrisjones4/miniconda3/envs/pps-msibi/lib/python3.11/site-packages/gsd/hoomd.py:835: DeprecationWarning: The truth value of an empty array is ambiguous. Returning False, but in future this will result in an error. Use `array.size > 0` to check that an array is not empty.\n",
      "  if matches_default_value and not self._chunk_exists_frame_0.get(\n"
     ]
    },
    {
     "name": "stdout",
     "output_type": "stream",
     "text": [
      "Added 242 hydrogens.\n"
     ]
    },
    {
     "name": "stderr",
     "output_type": "stream",
     "text": [
      "/home/chrisjones4/miniconda3/envs/pps-msibi/lib/python3.11/site-packages/gsd/hoomd.py:835: DeprecationWarning: The truth value of an empty array is ambiguous. Returning False, but in future this will result in an error. Use `array.size > 0` to check that an array is not empty.\n",
      "  if matches_default_value and not self._chunk_exists_frame_0.get(\n",
      "/home/chrisjones4/miniconda3/envs/pps-msibi/lib/python3.11/site-packages/gsd/hoomd.py:835: DeprecationWarning: The truth value of an empty array is ambiguous. Returning False, but in future this will result in an error. Use `array.size > 0` to check that an array is not empty.\n",
      "  if matches_default_value and not self._chunk_exists_frame_0.get(\n",
      "/home/chrisjones4/miniconda3/envs/pps-msibi/lib/python3.11/site-packages/gsd/hoomd.py:835: DeprecationWarning: The truth value of an empty array is ambiguous. Returning False, but in future this will result in an error. Use `array.size > 0` to check that an array is not empty.\n",
      "  if matches_default_value and not self._chunk_exists_frame_0.get(\n",
      "/home/chrisjones4/miniconda3/envs/pps-msibi/lib/python3.11/site-packages/gsd/hoomd.py:835: DeprecationWarning: The truth value of an empty array is ambiguous. Returning False, but in future this will result in an error. Use `array.size > 0` to check that an array is not empty.\n",
      "  if matches_default_value and not self._chunk_exists_frame_0.get(\n",
      "/home/chrisjones4/miniconda3/envs/pps-msibi/lib/python3.11/site-packages/gsd/hoomd.py:835: DeprecationWarning: The truth value of an empty array is ambiguous. Returning False, but in future this will result in an error. Use `array.size > 0` to check that an array is not empty.\n",
      "  if matches_default_value and not self._chunk_exists_frame_0.get(\n"
     ]
    },
    {
     "name": "stdout",
     "output_type": "stream",
     "text": [
      "Added 322 hydrogens.\n"
     ]
    },
    {
     "name": "stderr",
     "output_type": "stream",
     "text": [
      "/home/chrisjones4/miniconda3/envs/pps-msibi/lib/python3.11/site-packages/gsd/hoomd.py:835: DeprecationWarning: The truth value of an empty array is ambiguous. Returning False, but in future this will result in an error. Use `array.size > 0` to check that an array is not empty.\n",
      "  if matches_default_value and not self._chunk_exists_frame_0.get(\n"
     ]
    },
    {
     "name": "stdout",
     "output_type": "stream",
     "text": [
      "Added 322 hydrogens.\n"
     ]
    },
    {
     "name": "stderr",
     "output_type": "stream",
     "text": [
      "/home/chrisjones4/miniconda3/envs/pps-msibi/lib/python3.11/site-packages/gsd/hoomd.py:835: DeprecationWarning: The truth value of an empty array is ambiguous. Returning False, but in future this will result in an error. Use `array.size > 0` to check that an array is not empty.\n",
      "  if matches_default_value and not self._chunk_exists_frame_0.get(\n"
     ]
    },
    {
     "name": "stdout",
     "output_type": "stream",
     "text": [
      "Added 322 hydrogens.\n"
     ]
    },
    {
     "name": "stderr",
     "output_type": "stream",
     "text": [
      "/home/chrisjones4/miniconda3/envs/pps-msibi/lib/python3.11/site-packages/gsd/hoomd.py:835: DeprecationWarning: The truth value of an empty array is ambiguous. Returning False, but in future this will result in an error. Use `array.size > 0` to check that an array is not empty.\n",
      "  if matches_default_value and not self._chunk_exists_frame_0.get(\n",
      "/home/chrisjones4/miniconda3/envs/pps-msibi/lib/python3.11/site-packages/gsd/hoomd.py:835: DeprecationWarning: The truth value of an empty array is ambiguous. Returning False, but in future this will result in an error. Use `array.size > 0` to check that an array is not empty.\n",
      "  if matches_default_value and not self._chunk_exists_frame_0.get(\n",
      "/home/chrisjones4/miniconda3/envs/pps-msibi/lib/python3.11/site-packages/gsd/hoomd.py:835: DeprecationWarning: The truth value of an empty array is ambiguous. Returning False, but in future this will result in an error. Use `array.size > 0` to check that an array is not empty.\n",
      "  if matches_default_value and not self._chunk_exists_frame_0.get(\n",
      "/home/chrisjones4/miniconda3/envs/pps-msibi/lib/python3.11/site-packages/gsd/hoomd.py:835: DeprecationWarning: The truth value of an empty array is ambiguous. Returning False, but in future this will result in an error. Use `array.size > 0` to check that an array is not empty.\n",
      "  if matches_default_value and not self._chunk_exists_frame_0.get(\n"
     ]
    },
    {
     "name": "stdout",
     "output_type": "stream",
     "text": [
      "Added 322 hydrogens.\n"
     ]
    },
    {
     "name": "stderr",
     "output_type": "stream",
     "text": [
      "/home/chrisjones4/miniconda3/envs/pps-msibi/lib/python3.11/site-packages/gsd/hoomd.py:835: DeprecationWarning: The truth value of an empty array is ambiguous. Returning False, but in future this will result in an error. Use `array.size > 0` to check that an array is not empty.\n",
      "  if matches_default_value and not self._chunk_exists_frame_0.get(\n",
      "/home/chrisjones4/miniconda3/envs/pps-msibi/lib/python3.11/site-packages/gsd/hoomd.py:835: DeprecationWarning: The truth value of an empty array is ambiguous. Returning False, but in future this will result in an error. Use `array.size > 0` to check that an array is not empty.\n",
      "  if matches_default_value and not self._chunk_exists_frame_0.get(\n"
     ]
    },
    {
     "name": "stdout",
     "output_type": "stream",
     "text": [
      "Added 82 hydrogens.\n"
     ]
    },
    {
     "name": "stderr",
     "output_type": "stream",
     "text": [
      "/home/chrisjones4/miniconda3/envs/pps-msibi/lib/python3.11/site-packages/gsd/hoomd.py:835: DeprecationWarning: The truth value of an empty array is ambiguous. Returning False, but in future this will result in an error. Use `array.size > 0` to check that an array is not empty.\n",
      "  if matches_default_value and not self._chunk_exists_frame_0.get(\n"
     ]
    },
    {
     "name": "stdout",
     "output_type": "stream",
     "text": [
      "Added 82 hydrogens.\n"
     ]
    },
    {
     "name": "stderr",
     "output_type": "stream",
     "text": [
      "/home/chrisjones4/miniconda3/envs/pps-msibi/lib/python3.11/site-packages/gsd/hoomd.py:835: DeprecationWarning: The truth value of an empty array is ambiguous. Returning False, but in future this will result in an error. Use `array.size > 0` to check that an array is not empty.\n",
      "  if matches_default_value and not self._chunk_exists_frame_0.get(\n"
     ]
    },
    {
     "name": "stdout",
     "output_type": "stream",
     "text": [
      "Added 82 hydrogens.\n"
     ]
    },
    {
     "name": "stderr",
     "output_type": "stream",
     "text": [
      "/home/chrisjones4/miniconda3/envs/pps-msibi/lib/python3.11/site-packages/gsd/hoomd.py:835: DeprecationWarning: The truth value of an empty array is ambiguous. Returning False, but in future this will result in an error. Use `array.size > 0` to check that an array is not empty.\n",
      "  if matches_default_value and not self._chunk_exists_frame_0.get(\n"
     ]
    },
    {
     "name": "stdout",
     "output_type": "stream",
     "text": [
      "Added 82 hydrogens.\n"
     ]
    },
    {
     "name": "stderr",
     "output_type": "stream",
     "text": [
      "/home/chrisjones4/miniconda3/envs/pps-msibi/lib/python3.11/site-packages/gsd/hoomd.py:835: DeprecationWarning: The truth value of an empty array is ambiguous. Returning False, but in future this will result in an error. Use `array.size > 0` to check that an array is not empty.\n",
      "  if matches_default_value and not self._chunk_exists_frame_0.get(\n",
      "/home/chrisjones4/miniconda3/envs/pps-msibi/lib/python3.11/site-packages/gsd/hoomd.py:835: DeprecationWarning: The truth value of an empty array is ambiguous. Returning False, but in future this will result in an error. Use `array.size > 0` to check that an array is not empty.\n",
      "  if matches_default_value and not self._chunk_exists_frame_0.get(\n"
     ]
    },
    {
     "name": "stdout",
     "output_type": "stream",
     "text": [
      "Added 10 hydrogens.\n"
     ]
    },
    {
     "name": "stderr",
     "output_type": "stream",
     "text": [
      "/home/chrisjones4/miniconda3/envs/pps-msibi/lib/python3.11/site-packages/gsd/hoomd.py:835: DeprecationWarning: The truth value of an empty array is ambiguous. Returning False, but in future this will result in an error. Use `array.size > 0` to check that an array is not empty.\n",
      "  if matches_default_value and not self._chunk_exists_frame_0.get(\n"
     ]
    },
    {
     "name": "stdout",
     "output_type": "stream",
     "text": [
      "Added 10 hydrogens.\n"
     ]
    },
    {
     "name": "stderr",
     "output_type": "stream",
     "text": [
      "/home/chrisjones4/miniconda3/envs/pps-msibi/lib/python3.11/site-packages/gsd/hoomd.py:835: DeprecationWarning: The truth value of an empty array is ambiguous. Returning False, but in future this will result in an error. Use `array.size > 0` to check that an array is not empty.\n",
      "  if matches_default_value and not self._chunk_exists_frame_0.get(\n"
     ]
    },
    {
     "name": "stdout",
     "output_type": "stream",
     "text": [
      "Added 10 hydrogens.\n"
     ]
    },
    {
     "name": "stderr",
     "output_type": "stream",
     "text": [
      "/home/chrisjones4/miniconda3/envs/pps-msibi/lib/python3.11/site-packages/gsd/hoomd.py:835: DeprecationWarning: The truth value of an empty array is ambiguous. Returning False, but in future this will result in an error. Use `array.size > 0` to check that an array is not empty.\n",
      "  if matches_default_value and not self._chunk_exists_frame_0.get(\n"
     ]
    },
    {
     "name": "stdout",
     "output_type": "stream",
     "text": [
      "Added 10 hydrogens.\n"
     ]
    },
    {
     "name": "stderr",
     "output_type": "stream",
     "text": [
      "/home/chrisjones4/miniconda3/envs/pps-msibi/lib/python3.11/site-packages/gsd/hoomd.py:835: DeprecationWarning: The truth value of an empty array is ambiguous. Returning False, but in future this will result in an error. Use `array.size > 0` to check that an array is not empty.\n",
      "  if matches_default_value and not self._chunk_exists_frame_0.get(\n",
      "/home/chrisjones4/miniconda3/envs/pps-msibi/lib/python3.11/site-packages/gsd/hoomd.py:835: DeprecationWarning: The truth value of an empty array is ambiguous. Returning False, but in future this will result in an error. Use `array.size > 0` to check that an array is not empty.\n",
      "  if matches_default_value and not self._chunk_exists_frame_0.get(\n",
      "/home/chrisjones4/miniconda3/envs/pps-msibi/lib/python3.11/site-packages/gsd/hoomd.py:835: DeprecationWarning: The truth value of an empty array is ambiguous. Returning False, but in future this will result in an error. Use `array.size > 0` to check that an array is not empty.\n",
      "  if matches_default_value and not self._chunk_exists_frame_0.get(\n",
      "/home/chrisjones4/miniconda3/envs/pps-msibi/lib/python3.11/site-packages/gsd/hoomd.py:835: DeprecationWarning: The truth value of an empty array is ambiguous. Returning False, but in future this will result in an error. Use `array.size > 0` to check that an array is not empty.\n",
      "  if matches_default_value and not self._chunk_exists_frame_0.get(\n",
      "/home/chrisjones4/miniconda3/envs/pps-msibi/lib/python3.11/site-packages/gsd/hoomd.py:835: DeprecationWarning: The truth value of an empty array is ambiguous. Returning False, but in future this will result in an error. Use `array.size > 0` to check that an array is not empty.\n",
      "  if matches_default_value and not self._chunk_exists_frame_0.get(\n"
     ]
    }
   ],
   "source": [
    "project = signac.get_project(\"../training-runs/single-chains/\")\n",
    "\n",
    "for job in project.find_jobs():\n",
    "    gsd_path = job.fn(f\"trajectory{job.doc.runs - 1}.gsd\")\n",
    "    cg_system = CG_System(\n",
    "        gsdfile=gsd_path,\n",
    "        beads={\"A\": one_bead_mapping},\n",
    "        conversion_dict=conv_dict,\n",
    "        add_hydrogens=job.sp.remove_hydrogens\n",
    "    )\n",
    "    \n",
    "    cg_system.save(job.fn(file_names[one_bead_mapping]))"
   ]
  },
  {
   "cell_type": "markdown",
   "id": "65150f26-b218-4a72-beed-0b529f3b26fd",
   "metadata": {},
   "source": [
    "# Bulk Trajectories:"
   ]
  },
  {
   "cell_type": "code",
   "execution_count": 13,
   "id": "f30c5efb-d05a-4c0b-86b0-73bf707c8c5d",
   "metadata": {},
   "outputs": [],
   "source": [
    "project = signac.get_project(\"../validation\")"
   ]
  },
  {
   "cell_type": "code",
   "execution_count": 11,
   "id": "e55f3688-3fc8-423d-a495-23d54eb9bc16",
   "metadata": {},
   "outputs": [],
   "source": [
    "def append_first_frame(job):\n",
    "    fpath = job.fn(f\"trajectory-nvt{job.doc.nvt_runs-1}.gsd\")\n",
    "\n",
    "    with gsd.hoomd.open(job.fn(\"combined-nvt.gsd\"), \"w\") as new_traj:\n",
    "        with gsd.hoomd.open(job.fn(\"trajectory-npt0.gsd\"), \"r\") as init_traj:\n",
    "            new_traj.append(init_traj[0])\n",
    "        with gsd.hoomd.open(fpath) as nvt_traj:\n",
    "            for frame in nvt_traj:\n",
    "                new_traj.append(frame)\n",
    "\n",
    "def append_first_frame_npt(job):\n",
    "    run = int(job.doc.npt_runs - 1)\n",
    "    fpath = job.fn(f\"trajectory-npt{run}.gsd\")\n",
    "    # combined-npt.gsd = last npt trajectory with initial frame appended to the front\n",
    "    with gsd.hoomd.open(job.fn(\"combined-npt.gsd\"), \"w\") as new_traj:\n",
    "        with gsd.hoomd.open(job.fn(\"trajectory-npt0.gsd\"), \"r\") as init_traj:\n",
    "            new_traj.append(init_traj[0])\n",
    "        with gsd.hoomd.open(fpath) as last_npt_traj:\n",
    "            for frame in last_npt_traj:\n",
    "                new_traj.append(frame)"
   ]
  },
  {
   "cell_type": "markdown",
   "id": "d8d06ba4-705b-414f-8435-ad57a983c60d",
   "metadata": {},
   "source": [
    "# Corase-grain the trajectories:"
   ]
  },
  {
   "cell_type": "code",
   "execution_count": 16,
   "id": "dc5ed6d3-cdce-4ab0-969a-00827f53e37f",
   "metadata": {},
   "outputs": [],
   "source": [
    "def coarse_grain_last_npt(job):\n",
    "    # Make the GSD file we need to pass into GRiTS\n",
    "    run = job.doc.npt_runs - 1\n",
    "    fpath = job.fn(f\"trajectory-npt{run}.gsd\")\n",
    "    with gsd.hoomd.open(job.fn(\"temp-npt.gsd\"), \"w\") as temp_traj: # Delete this traj after CGing\n",
    "        with gsd.hoomd.open(fpath, \"r\") as last_traj:\n",
    "            with gsd.hoomd.open(job.fn(\"trajectory-npt0.gsd\"), \"r\") as init_traj:\n",
    "                temp_traj.append(init_traj[0])\n",
    "                for frame in last_traj:\n",
    "                    temp_traj.append(frame)\n",
    "    \n",
    "    cg_system = grits.coarsegrain.CG_System(\n",
    "        gsdfile=job.fn(\"temp-npt.gsd\"),\n",
    "        beads={\"A\": one_bead_mapping},\n",
    "        add_hydrogens=job.sp.remove_hydrogens,\n",
    "        conversion_dict=conv_dict\n",
    "    )\n",
    "    \n",
    "    cg_system.save(job.fn(file_names[one_bead_mapping]))\n",
    "    #os.remove(job.fn(\"temp-npt.gsd\"))"
   ]
  },
  {
   "cell_type": "code",
   "execution_count": 17,
   "id": "f2260921-a07f-418e-8912-94304300f415",
   "metadata": {},
   "outputs": [
    {
     "name": "stdout",
     "output_type": "stream",
     "text": [
      "Added 102 hydrogens.\n"
     ]
    },
    {
     "name": "stderr",
     "output_type": "stream",
     "text": [
      "/home/erjank_project/PPS-MSIBI/chris-scratch-space/repos/grits/grits/coarsegrain.py:193: UserWarning: Some atoms have been left out of coarse-graining!\n",
      "  warn(f\"Some atoms have been left out of coarse-graining!\")\n",
      "/home/chrisjones4/miniconda3/envs/pps-msibi/lib/python3.11/site-packages/gsd/hoomd.py:835: DeprecationWarning: The truth value of an empty array is ambiguous. Returning False, but in future this will result in an error. Use `array.size > 0` to check that an array is not empty.\n",
      "  if matches_default_value and not self._chunk_exists_frame_0.get(\n"
     ]
    },
    {
     "name": "stdout",
     "output_type": "stream",
     "text": [
      "Added 102 hydrogens.\n"
     ]
    },
    {
     "name": "stderr",
     "output_type": "stream",
     "text": [
      "/home/chrisjones4/miniconda3/envs/pps-msibi/lib/python3.11/site-packages/gsd/hoomd.py:835: DeprecationWarning: The truth value of an empty array is ambiguous. Returning False, but in future this will result in an error. Use `array.size > 0` to check that an array is not empty.\n",
      "  if matches_default_value and not self._chunk_exists_frame_0.get(\n"
     ]
    },
    {
     "name": "stdout",
     "output_type": "stream",
     "text": [
      "Added 102 hydrogens.\n"
     ]
    },
    {
     "name": "stderr",
     "output_type": "stream",
     "text": [
      "/home/chrisjones4/miniconda3/envs/pps-msibi/lib/python3.11/site-packages/gsd/hoomd.py:835: DeprecationWarning: The truth value of an empty array is ambiguous. Returning False, but in future this will result in an error. Use `array.size > 0` to check that an array is not empty.\n",
      "  if matches_default_value and not self._chunk_exists_frame_0.get(\n"
     ]
    },
    {
     "name": "stdout",
     "output_type": "stream",
     "text": [
      "Added 102 hydrogens.\n"
     ]
    },
    {
     "name": "stderr",
     "output_type": "stream",
     "text": [
      "/home/chrisjones4/miniconda3/envs/pps-msibi/lib/python3.11/site-packages/gsd/hoomd.py:835: DeprecationWarning: The truth value of an empty array is ambiguous. Returning False, but in future this will result in an error. Use `array.size > 0` to check that an array is not empty.\n",
      "  if matches_default_value and not self._chunk_exists_frame_0.get(\n"
     ]
    },
    {
     "name": "stdout",
     "output_type": "stream",
     "text": [
      "Added 102 hydrogens.\n"
     ]
    },
    {
     "name": "stderr",
     "output_type": "stream",
     "text": [
      "/home/chrisjones4/miniconda3/envs/pps-msibi/lib/python3.11/site-packages/gsd/hoomd.py:835: DeprecationWarning: The truth value of an empty array is ambiguous. Returning False, but in future this will result in an error. Use `array.size > 0` to check that an array is not empty.\n",
      "  if matches_default_value and not self._chunk_exists_frame_0.get(\n"
     ]
    },
    {
     "name": "stdout",
     "output_type": "stream",
     "text": [
      "Added 102 hydrogens.\n"
     ]
    },
    {
     "name": "stderr",
     "output_type": "stream",
     "text": [
      "/home/chrisjones4/miniconda3/envs/pps-msibi/lib/python3.11/site-packages/gsd/hoomd.py:835: DeprecationWarning: The truth value of an empty array is ambiguous. Returning False, but in future this will result in an error. Use `array.size > 0` to check that an array is not empty.\n",
      "  if matches_default_value and not self._chunk_exists_frame_0.get(\n"
     ]
    },
    {
     "name": "stdout",
     "output_type": "stream",
     "text": [
      "Added 102 hydrogens.\n"
     ]
    },
    {
     "name": "stderr",
     "output_type": "stream",
     "text": [
      "/home/chrisjones4/miniconda3/envs/pps-msibi/lib/python3.11/site-packages/gsd/hoomd.py:835: DeprecationWarning: The truth value of an empty array is ambiguous. Returning False, but in future this will result in an error. Use `array.size > 0` to check that an array is not empty.\n",
      "  if matches_default_value and not self._chunk_exists_frame_0.get(\n"
     ]
    },
    {
     "name": "stdout",
     "output_type": "stream",
     "text": [
      "Added 102 hydrogens.\n"
     ]
    },
    {
     "name": "stderr",
     "output_type": "stream",
     "text": [
      "/home/chrisjones4/miniconda3/envs/pps-msibi/lib/python3.11/site-packages/gsd/hoomd.py:835: DeprecationWarning: The truth value of an empty array is ambiguous. Returning False, but in future this will result in an error. Use `array.size > 0` to check that an array is not empty.\n",
      "  if matches_default_value and not self._chunk_exists_frame_0.get(\n"
     ]
    },
    {
     "name": "stdout",
     "output_type": "stream",
     "text": [
      "Added 102 hydrogens.\n"
     ]
    },
    {
     "name": "stderr",
     "output_type": "stream",
     "text": [
      "/home/chrisjones4/miniconda3/envs/pps-msibi/lib/python3.11/site-packages/gsd/hoomd.py:835: DeprecationWarning: The truth value of an empty array is ambiguous. Returning False, but in future this will result in an error. Use `array.size > 0` to check that an array is not empty.\n",
      "  if matches_default_value and not self._chunk_exists_frame_0.get(\n"
     ]
    },
    {
     "name": "stdout",
     "output_type": "stream",
     "text": [
      "Added 102 hydrogens.\n"
     ]
    },
    {
     "name": "stderr",
     "output_type": "stream",
     "text": [
      "/home/chrisjones4/miniconda3/envs/pps-msibi/lib/python3.11/site-packages/gsd/hoomd.py:835: DeprecationWarning: The truth value of an empty array is ambiguous. Returning False, but in future this will result in an error. Use `array.size > 0` to check that an array is not empty.\n",
      "  if matches_default_value and not self._chunk_exists_frame_0.get(\n"
     ]
    },
    {
     "name": "stdout",
     "output_type": "stream",
     "text": [
      "Added 102 hydrogens.\n"
     ]
    },
    {
     "name": "stderr",
     "output_type": "stream",
     "text": [
      "/home/chrisjones4/miniconda3/envs/pps-msibi/lib/python3.11/site-packages/gsd/hoomd.py:835: DeprecationWarning: The truth value of an empty array is ambiguous. Returning False, but in future this will result in an error. Use `array.size > 0` to check that an array is not empty.\n",
      "  if matches_default_value and not self._chunk_exists_frame_0.get(\n"
     ]
    },
    {
     "name": "stdout",
     "output_type": "stream",
     "text": [
      "Added 102 hydrogens.\n"
     ]
    },
    {
     "name": "stderr",
     "output_type": "stream",
     "text": [
      "/home/chrisjones4/miniconda3/envs/pps-msibi/lib/python3.11/site-packages/gsd/hoomd.py:835: DeprecationWarning: The truth value of an empty array is ambiguous. Returning False, but in future this will result in an error. Use `array.size > 0` to check that an array is not empty.\n",
      "  if matches_default_value and not self._chunk_exists_frame_0.get(\n"
     ]
    },
    {
     "name": "stdout",
     "output_type": "stream",
     "text": [
      "Added 102 hydrogens.\n"
     ]
    },
    {
     "name": "stderr",
     "output_type": "stream",
     "text": [
      "/home/chrisjones4/miniconda3/envs/pps-msibi/lib/python3.11/site-packages/gsd/hoomd.py:835: DeprecationWarning: The truth value of an empty array is ambiguous. Returning False, but in future this will result in an error. Use `array.size > 0` to check that an array is not empty.\n",
      "  if matches_default_value and not self._chunk_exists_frame_0.get(\n"
     ]
    },
    {
     "name": "stdout",
     "output_type": "stream",
     "text": [
      "Added 102 hydrogens.\n"
     ]
    },
    {
     "name": "stderr",
     "output_type": "stream",
     "text": [
      "/home/chrisjones4/miniconda3/envs/pps-msibi/lib/python3.11/site-packages/gsd/hoomd.py:835: DeprecationWarning: The truth value of an empty array is ambiguous. Returning False, but in future this will result in an error. Use `array.size > 0` to check that an array is not empty.\n",
      "  if matches_default_value and not self._chunk_exists_frame_0.get(\n"
     ]
    },
    {
     "name": "stdout",
     "output_type": "stream",
     "text": [
      "Added 102 hydrogens.\n"
     ]
    },
    {
     "name": "stderr",
     "output_type": "stream",
     "text": [
      "/home/chrisjones4/miniconda3/envs/pps-msibi/lib/python3.11/site-packages/gsd/hoomd.py:835: DeprecationWarning: The truth value of an empty array is ambiguous. Returning False, but in future this will result in an error. Use `array.size > 0` to check that an array is not empty.\n",
      "  if matches_default_value and not self._chunk_exists_frame_0.get(\n"
     ]
    },
    {
     "name": "stdout",
     "output_type": "stream",
     "text": [
      "Added 102 hydrogens.\n"
     ]
    },
    {
     "name": "stderr",
     "output_type": "stream",
     "text": [
      "/home/chrisjones4/miniconda3/envs/pps-msibi/lib/python3.11/site-packages/gsd/hoomd.py:835: DeprecationWarning: The truth value of an empty array is ambiguous. Returning False, but in future this will result in an error. Use `array.size > 0` to check that an array is not empty.\n",
      "  if matches_default_value and not self._chunk_exists_frame_0.get(\n"
     ]
    },
    {
     "name": "stdout",
     "output_type": "stream",
     "text": [
      "Added 102 hydrogens.\n"
     ]
    },
    {
     "name": "stderr",
     "output_type": "stream",
     "text": [
      "/home/chrisjones4/miniconda3/envs/pps-msibi/lib/python3.11/site-packages/gsd/hoomd.py:835: DeprecationWarning: The truth value of an empty array is ambiguous. Returning False, but in future this will result in an error. Use `array.size > 0` to check that an array is not empty.\n",
      "  if matches_default_value and not self._chunk_exists_frame_0.get(\n"
     ]
    },
    {
     "name": "stdout",
     "output_type": "stream",
     "text": [
      "Added 102 hydrogens.\n"
     ]
    },
    {
     "name": "stderr",
     "output_type": "stream",
     "text": [
      "/home/chrisjones4/miniconda3/envs/pps-msibi/lib/python3.11/site-packages/gsd/hoomd.py:835: DeprecationWarning: The truth value of an empty array is ambiguous. Returning False, but in future this will result in an error. Use `array.size > 0` to check that an array is not empty.\n",
      "  if matches_default_value and not self._chunk_exists_frame_0.get(\n"
     ]
    },
    {
     "name": "stdout",
     "output_type": "stream",
     "text": [
      "Added 102 hydrogens.\n"
     ]
    },
    {
     "name": "stderr",
     "output_type": "stream",
     "text": [
      "/home/chrisjones4/miniconda3/envs/pps-msibi/lib/python3.11/site-packages/gsd/hoomd.py:835: DeprecationWarning: The truth value of an empty array is ambiguous. Returning False, but in future this will result in an error. Use `array.size > 0` to check that an array is not empty.\n",
      "  if matches_default_value and not self._chunk_exists_frame_0.get(\n"
     ]
    },
    {
     "name": "stdout",
     "output_type": "stream",
     "text": [
      "Added 102 hydrogens.\n"
     ]
    },
    {
     "name": "stderr",
     "output_type": "stream",
     "text": [
      "/home/chrisjones4/miniconda3/envs/pps-msibi/lib/python3.11/site-packages/gsd/hoomd.py:835: DeprecationWarning: The truth value of an empty array is ambiguous. Returning False, but in future this will result in an error. Use `array.size > 0` to check that an array is not empty.\n",
      "  if matches_default_value and not self._chunk_exists_frame_0.get(\n"
     ]
    },
    {
     "name": "stdout",
     "output_type": "stream",
     "text": [
      "Added 102 hydrogens.\n"
     ]
    },
    {
     "name": "stderr",
     "output_type": "stream",
     "text": [
      "/home/chrisjones4/miniconda3/envs/pps-msibi/lib/python3.11/site-packages/gsd/hoomd.py:835: DeprecationWarning: The truth value of an empty array is ambiguous. Returning False, but in future this will result in an error. Use `array.size > 0` to check that an array is not empty.\n",
      "  if matches_default_value and not self._chunk_exists_frame_0.get(\n"
     ]
    },
    {
     "name": "stdout",
     "output_type": "stream",
     "text": [
      "Added 102 hydrogens.\n"
     ]
    },
    {
     "name": "stderr",
     "output_type": "stream",
     "text": [
      "/home/chrisjones4/miniconda3/envs/pps-msibi/lib/python3.11/site-packages/gsd/hoomd.py:835: DeprecationWarning: The truth value of an empty array is ambiguous. Returning False, but in future this will result in an error. Use `array.size > 0` to check that an array is not empty.\n",
      "  if matches_default_value and not self._chunk_exists_frame_0.get(\n"
     ]
    },
    {
     "name": "stdout",
     "output_type": "stream",
     "text": [
      "Added 102 hydrogens.\n"
     ]
    },
    {
     "name": "stderr",
     "output_type": "stream",
     "text": [
      "/home/chrisjones4/miniconda3/envs/pps-msibi/lib/python3.11/site-packages/gsd/hoomd.py:835: DeprecationWarning: The truth value of an empty array is ambiguous. Returning False, but in future this will result in an error. Use `array.size > 0` to check that an array is not empty.\n",
      "  if matches_default_value and not self._chunk_exists_frame_0.get(\n"
     ]
    },
    {
     "name": "stdout",
     "output_type": "stream",
     "text": [
      "Added 102 hydrogens.\n"
     ]
    },
    {
     "name": "stderr",
     "output_type": "stream",
     "text": [
      "/home/chrisjones4/miniconda3/envs/pps-msibi/lib/python3.11/site-packages/gsd/hoomd.py:835: DeprecationWarning: The truth value of an empty array is ambiguous. Returning False, but in future this will result in an error. Use `array.size > 0` to check that an array is not empty.\n",
      "  if matches_default_value and not self._chunk_exists_frame_0.get(\n"
     ]
    },
    {
     "name": "stdout",
     "output_type": "stream",
     "text": [
      "Added 102 hydrogens.\n"
     ]
    },
    {
     "name": "stderr",
     "output_type": "stream",
     "text": [
      "/home/chrisjones4/miniconda3/envs/pps-msibi/lib/python3.11/site-packages/gsd/hoomd.py:835: DeprecationWarning: The truth value of an empty array is ambiguous. Returning False, but in future this will result in an error. Use `array.size > 0` to check that an array is not empty.\n",
      "  if matches_default_value and not self._chunk_exists_frame_0.get(\n"
     ]
    },
    {
     "name": "stdout",
     "output_type": "stream",
     "text": [
      "Added 102 hydrogens.\n"
     ]
    },
    {
     "name": "stderr",
     "output_type": "stream",
     "text": [
      "/home/chrisjones4/miniconda3/envs/pps-msibi/lib/python3.11/site-packages/gsd/hoomd.py:835: DeprecationWarning: The truth value of an empty array is ambiguous. Returning False, but in future this will result in an error. Use `array.size > 0` to check that an array is not empty.\n",
      "  if matches_default_value and not self._chunk_exists_frame_0.get(\n"
     ]
    },
    {
     "name": "stdout",
     "output_type": "stream",
     "text": [
      "Added 102 hydrogens.\n"
     ]
    },
    {
     "name": "stderr",
     "output_type": "stream",
     "text": [
      "/home/chrisjones4/miniconda3/envs/pps-msibi/lib/python3.11/site-packages/gsd/hoomd.py:835: DeprecationWarning: The truth value of an empty array is ambiguous. Returning False, but in future this will result in an error. Use `array.size > 0` to check that an array is not empty.\n",
      "  if matches_default_value and not self._chunk_exists_frame_0.get(\n"
     ]
    },
    {
     "name": "stdout",
     "output_type": "stream",
     "text": [
      "Added 102 hydrogens.\n"
     ]
    },
    {
     "name": "stderr",
     "output_type": "stream",
     "text": [
      "/home/chrisjones4/miniconda3/envs/pps-msibi/lib/python3.11/site-packages/gsd/hoomd.py:835: DeprecationWarning: The truth value of an empty array is ambiguous. Returning False, but in future this will result in an error. Use `array.size > 0` to check that an array is not empty.\n",
      "  if matches_default_value and not self._chunk_exists_frame_0.get(\n"
     ]
    },
    {
     "name": "stdout",
     "output_type": "stream",
     "text": [
      "Added 102 hydrogens.\n"
     ]
    },
    {
     "name": "stderr",
     "output_type": "stream",
     "text": [
      "/home/chrisjones4/miniconda3/envs/pps-msibi/lib/python3.11/site-packages/gsd/hoomd.py:835: DeprecationWarning: The truth value of an empty array is ambiguous. Returning False, but in future this will result in an error. Use `array.size > 0` to check that an array is not empty.\n",
      "  if matches_default_value and not self._chunk_exists_frame_0.get(\n"
     ]
    },
    {
     "name": "stdout",
     "output_type": "stream",
     "text": [
      "Added 102 hydrogens.\n"
     ]
    },
    {
     "name": "stderr",
     "output_type": "stream",
     "text": [
      "/home/chrisjones4/miniconda3/envs/pps-msibi/lib/python3.11/site-packages/gsd/hoomd.py:835: DeprecationWarning: The truth value of an empty array is ambiguous. Returning False, but in future this will result in an error. Use `array.size > 0` to check that an array is not empty.\n",
      "  if matches_default_value and not self._chunk_exists_frame_0.get(\n"
     ]
    },
    {
     "name": "stdout",
     "output_type": "stream",
     "text": [
      "Added 102 hydrogens.\n"
     ]
    },
    {
     "name": "stderr",
     "output_type": "stream",
     "text": [
      "/home/chrisjones4/miniconda3/envs/pps-msibi/lib/python3.11/site-packages/gsd/hoomd.py:835: DeprecationWarning: The truth value of an empty array is ambiguous. Returning False, but in future this will result in an error. Use `array.size > 0` to check that an array is not empty.\n",
      "  if matches_default_value and not self._chunk_exists_frame_0.get(\n"
     ]
    },
    {
     "name": "stdout",
     "output_type": "stream",
     "text": [
      "Added 102 hydrogens.\n"
     ]
    },
    {
     "name": "stderr",
     "output_type": "stream",
     "text": [
      "/home/chrisjones4/miniconda3/envs/pps-msibi/lib/python3.11/site-packages/gsd/hoomd.py:835: DeprecationWarning: The truth value of an empty array is ambiguous. Returning False, but in future this will result in an error. Use `array.size > 0` to check that an array is not empty.\n",
      "  if matches_default_value and not self._chunk_exists_frame_0.get(\n"
     ]
    },
    {
     "name": "stdout",
     "output_type": "stream",
     "text": [
      "Added 102 hydrogens.\n"
     ]
    },
    {
     "name": "stderr",
     "output_type": "stream",
     "text": [
      "/home/chrisjones4/miniconda3/envs/pps-msibi/lib/python3.11/site-packages/gsd/hoomd.py:835: DeprecationWarning: The truth value of an empty array is ambiguous. Returning False, but in future this will result in an error. Use `array.size > 0` to check that an array is not empty.\n",
      "  if matches_default_value and not self._chunk_exists_frame_0.get(\n"
     ]
    },
    {
     "name": "stdout",
     "output_type": "stream",
     "text": [
      "Added 102 hydrogens.\n"
     ]
    },
    {
     "name": "stderr",
     "output_type": "stream",
     "text": [
      "/home/chrisjones4/miniconda3/envs/pps-msibi/lib/python3.11/site-packages/gsd/hoomd.py:835: DeprecationWarning: The truth value of an empty array is ambiguous. Returning False, but in future this will result in an error. Use `array.size > 0` to check that an array is not empty.\n",
      "  if matches_default_value and not self._chunk_exists_frame_0.get(\n"
     ]
    },
    {
     "name": "stdout",
     "output_type": "stream",
     "text": [
      "Added 102 hydrogens.\n"
     ]
    },
    {
     "name": "stderr",
     "output_type": "stream",
     "text": [
      "/home/chrisjones4/miniconda3/envs/pps-msibi/lib/python3.11/site-packages/gsd/hoomd.py:835: DeprecationWarning: The truth value of an empty array is ambiguous. Returning False, but in future this will result in an error. Use `array.size > 0` to check that an array is not empty.\n",
      "  if matches_default_value and not self._chunk_exists_frame_0.get(\n"
     ]
    },
    {
     "name": "stdout",
     "output_type": "stream",
     "text": [
      "Added 102 hydrogens.\n"
     ]
    },
    {
     "name": "stderr",
     "output_type": "stream",
     "text": [
      "/home/chrisjones4/miniconda3/envs/pps-msibi/lib/python3.11/site-packages/gsd/hoomd.py:835: DeprecationWarning: The truth value of an empty array is ambiguous. Returning False, but in future this will result in an error. Use `array.size > 0` to check that an array is not empty.\n",
      "  if matches_default_value and not self._chunk_exists_frame_0.get(\n"
     ]
    },
    {
     "name": "stdout",
     "output_type": "stream",
     "text": [
      "Added 102 hydrogens.\n"
     ]
    },
    {
     "name": "stderr",
     "output_type": "stream",
     "text": [
      "/home/chrisjones4/miniconda3/envs/pps-msibi/lib/python3.11/site-packages/gsd/hoomd.py:835: DeprecationWarning: The truth value of an empty array is ambiguous. Returning False, but in future this will result in an error. Use `array.size > 0` to check that an array is not empty.\n",
      "  if matches_default_value and not self._chunk_exists_frame_0.get(\n"
     ]
    },
    {
     "name": "stdout",
     "output_type": "stream",
     "text": [
      "Added 102 hydrogens.\n"
     ]
    },
    {
     "name": "stderr",
     "output_type": "stream",
     "text": [
      "/home/chrisjones4/miniconda3/envs/pps-msibi/lib/python3.11/site-packages/gsd/hoomd.py:835: DeprecationWarning: The truth value of an empty array is ambiguous. Returning False, but in future this will result in an error. Use `array.size > 0` to check that an array is not empty.\n",
      "  if matches_default_value and not self._chunk_exists_frame_0.get(\n"
     ]
    },
    {
     "name": "stdout",
     "output_type": "stream",
     "text": [
      "Added 102 hydrogens.\n"
     ]
    },
    {
     "name": "stderr",
     "output_type": "stream",
     "text": [
      "/home/chrisjones4/miniconda3/envs/pps-msibi/lib/python3.11/site-packages/gsd/hoomd.py:835: DeprecationWarning: The truth value of an empty array is ambiguous. Returning False, but in future this will result in an error. Use `array.size > 0` to check that an array is not empty.\n",
      "  if matches_default_value and not self._chunk_exists_frame_0.get(\n"
     ]
    },
    {
     "name": "stdout",
     "output_type": "stream",
     "text": [
      "Added 102 hydrogens.\n"
     ]
    },
    {
     "name": "stderr",
     "output_type": "stream",
     "text": [
      "/home/chrisjones4/miniconda3/envs/pps-msibi/lib/python3.11/site-packages/gsd/hoomd.py:835: DeprecationWarning: The truth value of an empty array is ambiguous. Returning False, but in future this will result in an error. Use `array.size > 0` to check that an array is not empty.\n",
      "  if matches_default_value and not self._chunk_exists_frame_0.get(\n"
     ]
    },
    {
     "name": "stdout",
     "output_type": "stream",
     "text": [
      "Added 102 hydrogens.\n"
     ]
    },
    {
     "name": "stderr",
     "output_type": "stream",
     "text": [
      "/home/chrisjones4/miniconda3/envs/pps-msibi/lib/python3.11/site-packages/gsd/hoomd.py:835: DeprecationWarning: The truth value of an empty array is ambiguous. Returning False, but in future this will result in an error. Use `array.size > 0` to check that an array is not empty.\n",
      "  if matches_default_value and not self._chunk_exists_frame_0.get(\n"
     ]
    },
    {
     "name": "stdout",
     "output_type": "stream",
     "text": [
      "Added 102 hydrogens.\n"
     ]
    },
    {
     "name": "stderr",
     "output_type": "stream",
     "text": [
      "/home/chrisjones4/miniconda3/envs/pps-msibi/lib/python3.11/site-packages/gsd/hoomd.py:835: DeprecationWarning: The truth value of an empty array is ambiguous. Returning False, but in future this will result in an error. Use `array.size > 0` to check that an array is not empty.\n",
      "  if matches_default_value and not self._chunk_exists_frame_0.get(\n"
     ]
    }
   ],
   "source": [
    "for job in project:\n",
    "    coarse_grain_last_npt(job)"
   ]
  },
  {
   "cell_type": "code",
   "execution_count": null,
   "id": "734800bc-e9d1-47bd-bc04-d2fd0ad54c14",
   "metadata": {},
   "outputs": [],
   "source": []
  }
 ],
 "metadata": {
  "kernelspec": {
   "display_name": "Python 3 (ipykernel)",
   "language": "python",
   "name": "python3"
  },
  "language_info": {
   "codemirror_mode": {
    "name": "ipython",
    "version": 3
   },
   "file_extension": ".py",
   "mimetype": "text/x-python",
   "name": "python",
   "nbconvert_exporter": "python",
   "pygments_lexer": "ipython3",
   "version": "3.11.8"
  }
 },
 "nbformat": 4,
 "nbformat_minor": 5
}
